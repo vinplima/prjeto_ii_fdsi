{
 "cells": [
  {
   "cell_type": "markdown",
   "metadata": {},
   "source": [
    "# Projeto 2 - Fundamentos de Data Science 1 - Titanic\n",
    "\n",
    "## Identificação\n",
    "**Aluno**: Vinicius Porto Lima   \n",
    "**Email**: viniciusmaximus@gmail.com   \n",
    "**Curso**: Fundamentos de Data Science 1\n",
    "\n",
    "## Introdução\n",
    "\n",
    "O tragédia do naufrágio do Titanic, ocorrida em 15 de abril de 1912, vitimou 1502 de 2224 passageiros. O alto nível de mortalidade do acidente se deve à insuficiência de botes salva-vidas no navio, que resultou na priorização da sobrevivência de grupos de pessoas, tais como mulheres, crianças, e passageiros de classes superiores.\n",
    "\n",
    "Nesta análise, responderei alguns questionamentos derivados do conjunto de dados disponibilizado no desafio [Titanic: Machine Learning from Disaster](https://www.kaggle.com/c/titanic), do [Kaggle](https://www.kaggle.com/). Não será desenvolvido um modelo preditivo de *machine learning*, logo, somente farei uso do conjunto de dados de treinamento disponibilizado no desafio, que possui a informação de categoria que define se o passageiro sobreviveu ou não sobreviveu. \n",
    "\n",
    "Contudo, farei uma análise estatística básica, com o apoio visual, para responder aos questionamentos enumerados em item específico deste relatório. Como consequência, **os resultados aqui dispostos não são definitivos**. "
   ]
  },
  {
   "cell_type": "code",
   "execution_count": 1,
   "metadata": {},
   "outputs": [],
   "source": [
    "import pandas as pd\n",
    "import numpy as np\n",
    "import matplotlib.pyplot as plt\n",
    "import seaborn as sns\n",
    "\n",
    "%matplotlib inline"
   ]
  },
  {
   "cell_type": "code",
   "execution_count": 2,
   "metadata": {},
   "outputs": [
    {
     "data": {
      "text/html": [
       "<div>\n",
       "<style scoped>\n",
       "    .dataframe tbody tr th:only-of-type {\n",
       "        vertical-align: middle;\n",
       "    }\n",
       "\n",
       "    .dataframe tbody tr th {\n",
       "        vertical-align: top;\n",
       "    }\n",
       "\n",
       "    .dataframe thead th {\n",
       "        text-align: right;\n",
       "    }\n",
       "</style>\n",
       "<table border=\"1\" class=\"dataframe\">\n",
       "  <thead>\n",
       "    <tr style=\"text-align: right;\">\n",
       "      <th></th>\n",
       "      <th>Survived</th>\n",
       "      <th>Pclass</th>\n",
       "      <th>Name</th>\n",
       "      <th>Sex</th>\n",
       "      <th>Age</th>\n",
       "      <th>SibSp</th>\n",
       "      <th>Parch</th>\n",
       "      <th>Ticket</th>\n",
       "      <th>Fare</th>\n",
       "      <th>Cabin</th>\n",
       "      <th>Embarked</th>\n",
       "    </tr>\n",
       "    <tr>\n",
       "      <th>PassengerId</th>\n",
       "      <th></th>\n",
       "      <th></th>\n",
       "      <th></th>\n",
       "      <th></th>\n",
       "      <th></th>\n",
       "      <th></th>\n",
       "      <th></th>\n",
       "      <th></th>\n",
       "      <th></th>\n",
       "      <th></th>\n",
       "      <th></th>\n",
       "    </tr>\n",
       "  </thead>\n",
       "  <tbody>\n",
       "    <tr>\n",
       "      <th>1</th>\n",
       "      <td>0</td>\n",
       "      <td>3</td>\n",
       "      <td>Braund, Mr. Owen Harris</td>\n",
       "      <td>male</td>\n",
       "      <td>22.0</td>\n",
       "      <td>1</td>\n",
       "      <td>0</td>\n",
       "      <td>A/5 21171</td>\n",
       "      <td>7.2500</td>\n",
       "      <td>NaN</td>\n",
       "      <td>S</td>\n",
       "    </tr>\n",
       "    <tr>\n",
       "      <th>2</th>\n",
       "      <td>1</td>\n",
       "      <td>1</td>\n",
       "      <td>Cumings, Mrs. John Bradley (Florence Briggs Th...</td>\n",
       "      <td>female</td>\n",
       "      <td>38.0</td>\n",
       "      <td>1</td>\n",
       "      <td>0</td>\n",
       "      <td>PC 17599</td>\n",
       "      <td>71.2833</td>\n",
       "      <td>C85</td>\n",
       "      <td>C</td>\n",
       "    </tr>\n",
       "    <tr>\n",
       "      <th>3</th>\n",
       "      <td>1</td>\n",
       "      <td>3</td>\n",
       "      <td>Heikkinen, Miss. Laina</td>\n",
       "      <td>female</td>\n",
       "      <td>26.0</td>\n",
       "      <td>0</td>\n",
       "      <td>0</td>\n",
       "      <td>STON/O2. 3101282</td>\n",
       "      <td>7.9250</td>\n",
       "      <td>NaN</td>\n",
       "      <td>S</td>\n",
       "    </tr>\n",
       "    <tr>\n",
       "      <th>4</th>\n",
       "      <td>1</td>\n",
       "      <td>1</td>\n",
       "      <td>Futrelle, Mrs. Jacques Heath (Lily May Peel)</td>\n",
       "      <td>female</td>\n",
       "      <td>35.0</td>\n",
       "      <td>1</td>\n",
       "      <td>0</td>\n",
       "      <td>113803</td>\n",
       "      <td>53.1000</td>\n",
       "      <td>C123</td>\n",
       "      <td>S</td>\n",
       "    </tr>\n",
       "    <tr>\n",
       "      <th>5</th>\n",
       "      <td>0</td>\n",
       "      <td>3</td>\n",
       "      <td>Allen, Mr. William Henry</td>\n",
       "      <td>male</td>\n",
       "      <td>35.0</td>\n",
       "      <td>0</td>\n",
       "      <td>0</td>\n",
       "      <td>373450</td>\n",
       "      <td>8.0500</td>\n",
       "      <td>NaN</td>\n",
       "      <td>S</td>\n",
       "    </tr>\n",
       "  </tbody>\n",
       "</table>\n",
       "</div>"
      ],
      "text/plain": [
       "             Survived  Pclass  \\\n",
       "PassengerId                     \n",
       "1                   0       3   \n",
       "2                   1       1   \n",
       "3                   1       3   \n",
       "4                   1       1   \n",
       "5                   0       3   \n",
       "\n",
       "                                                          Name     Sex   Age  \\\n",
       "PassengerId                                                                    \n",
       "1                                      Braund, Mr. Owen Harris    male  22.0   \n",
       "2            Cumings, Mrs. John Bradley (Florence Briggs Th...  female  38.0   \n",
       "3                                       Heikkinen, Miss. Laina  female  26.0   \n",
       "4                 Futrelle, Mrs. Jacques Heath (Lily May Peel)  female  35.0   \n",
       "5                                     Allen, Mr. William Henry    male  35.0   \n",
       "\n",
       "             SibSp  Parch            Ticket     Fare Cabin Embarked  \n",
       "PassengerId                                                          \n",
       "1                1      0         A/5 21171   7.2500   NaN        S  \n",
       "2                1      0          PC 17599  71.2833   C85        C  \n",
       "3                0      0  STON/O2. 3101282   7.9250   NaN        S  \n",
       "4                1      0            113803  53.1000  C123        S  \n",
       "5                0      0            373450   8.0500   NaN        S  "
      ]
     },
     "execution_count": 2,
     "metadata": {},
     "output_type": "execute_result"
    }
   ],
   "source": [
    "# dataframe com dados para treinamento do modelo (possui a flag de sobrevivência)\n",
    "df_train = pd.read_csv('train.csv', index_col=0)\n",
    "\n",
    "df_train.head()"
   ]
  },
  {
   "cell_type": "markdown",
   "metadata": {},
   "source": [
    "## Perguntas\n",
    "\n",
    "- **Passageiros de primeira classe, mulheres e crianças obtiveram a maior chance de sobreviver?**  \n",
    "   É esperado que alguns grupos de passageiros sejam priorizados para o uso dos botes salva-vidas. Estes grupos são crianças, mulheres e passageiros de primeira classe. Será verificado estatisticamente se essa espectativa se consolida no conjunto de dados analisado.\n",
    "\n",
    "\n",
    "- **No caso de crianças, a classe do passageiro afetou na probabilidade de sobrevivência?**  \n",
    "   Quando se trata de crianças, imagina-se que não tenha havido priorização por classe.\n",
    "   \n",
    "   \n",
    "- **Mulheres casadas possuem mais chances de sobreviver do que mulheres solteiras?**  \n",
    "   Mulheres casadas podem dispor de apoio do marido ou tinham filhos, o que poderia apoiar na sua priorização no embarque em botes salvavidas. \n",
    "   \n",
    "   \n",
    "- **Passageiros que viajavam acompanhados possuem mais chances de sobreviver do que passageiros que viajavam sozinhos?**  \n",
    "   Seguindo na mesma linha do questionamento anterior, pretende-se verificar se a presença de familiares apoiou na sobrevivência do passageiro.\n",
    "   \n",
    "   \n",
    "- **A diferença na taxa de sobrevivência dentre homens e mulheres é menor na primeira classe do que nas duas outras classes?**  \n",
    "   Considerando que a passageiros de classe superior e mulheres são grupos priorizados, será verificado se a diferença da taxa de sobrevivência entre homens e mulheres é inferior na primeira classe quando comparada com as demais classes.\n",
    "   \n",
    "   \n",
    "- **O porto de embarque afetou na probabilidade de sobrevivência do passageiro?**  \n",
    "   O porto de embarque aparenta não estar relacionado com a probabilidade de sobrevivência de um passageiro. Será verificado se há alguma relação."
   ]
  },
  {
   "cell_type": "markdown",
   "metadata": {},
   "source": [
    "## Análise dos dados"
   ]
  },
  {
   "cell_type": "code",
   "execution_count": 3,
   "metadata": {},
   "outputs": [
    {
     "name": "stdout",
     "output_type": "stream",
     "text": [
      "<class 'pandas.core.frame.DataFrame'>\n",
      "Int64Index: 891 entries, 1 to 891\n",
      "Data columns (total 11 columns):\n",
      "Survived    891 non-null int64\n",
      "Pclass      891 non-null int64\n",
      "Name        891 non-null object\n",
      "Sex         891 non-null object\n",
      "Age         714 non-null float64\n",
      "SibSp       891 non-null int64\n",
      "Parch       891 non-null int64\n",
      "Ticket      891 non-null object\n",
      "Fare        891 non-null float64\n",
      "Cabin       204 non-null object\n",
      "Embarked    889 non-null object\n",
      "dtypes: float64(2), int64(4), object(5)\n",
      "memory usage: 83.5+ KB\n"
     ]
    }
   ],
   "source": [
    "df_train.info()"
   ]
  },
  {
   "cell_type": "markdown",
   "metadata": {},
   "source": [
    "O dataframe é composto por 11 colunas, uma vez que a coluna PassengerId foi usada como índice na leitura do arquivo CSV. As colunas são:  \n",
    "- Survived: se o passageiro sobreviveu ou não sobreviveu (0, se não sobreviveu, e 1, se sobreviveu)\n",
    "- Pclass: a classe do passageiro (1, 2 ou 3 para 1ª, 2ª ou 3ª classe)\n",
    "- Name: nome do passageiro\n",
    "- Sex: o sexo do passageiro\n",
    "- Age: a idade do passageiro\n",
    "- SibSp: quantidade de passageiros embarcados que possuem relação de irmão ou cônjuge\n",
    "- Parch: quantidade de passageiros embarcados que possuem relação de pai ou filho\n",
    "- Ticket: número do *ticket*\n",
    "- Fare: custo da passagem\n",
    "- Cabin: número da cabine\n",
    "- Embarked: porto onde o passageiro embarcou (C = Cherbourg, Q = Queenstown, S = Southampton)"
   ]
  },
  {
   "cell_type": "code",
   "execution_count": 4,
   "metadata": {},
   "outputs": [
    {
     "data": {
      "text/html": [
       "<div>\n",
       "<style scoped>\n",
       "    .dataframe tbody tr th:only-of-type {\n",
       "        vertical-align: middle;\n",
       "    }\n",
       "\n",
       "    .dataframe tbody tr th {\n",
       "        vertical-align: top;\n",
       "    }\n",
       "\n",
       "    .dataframe thead th {\n",
       "        text-align: right;\n",
       "    }\n",
       "</style>\n",
       "<table border=\"1\" class=\"dataframe\">\n",
       "  <thead>\n",
       "    <tr style=\"text-align: right;\">\n",
       "      <th></th>\n",
       "      <th>Survived</th>\n",
       "      <th>Pclass</th>\n",
       "      <th>Age</th>\n",
       "      <th>SibSp</th>\n",
       "      <th>Parch</th>\n",
       "      <th>Fare</th>\n",
       "    </tr>\n",
       "  </thead>\n",
       "  <tbody>\n",
       "    <tr>\n",
       "      <th>count</th>\n",
       "      <td>891.000000</td>\n",
       "      <td>891.000000</td>\n",
       "      <td>714.000000</td>\n",
       "      <td>891.000000</td>\n",
       "      <td>891.000000</td>\n",
       "      <td>891.000000</td>\n",
       "    </tr>\n",
       "    <tr>\n",
       "      <th>mean</th>\n",
       "      <td>0.383838</td>\n",
       "      <td>2.308642</td>\n",
       "      <td>29.699118</td>\n",
       "      <td>0.523008</td>\n",
       "      <td>0.381594</td>\n",
       "      <td>32.204208</td>\n",
       "    </tr>\n",
       "    <tr>\n",
       "      <th>std</th>\n",
       "      <td>0.486592</td>\n",
       "      <td>0.836071</td>\n",
       "      <td>14.526497</td>\n",
       "      <td>1.102743</td>\n",
       "      <td>0.806057</td>\n",
       "      <td>49.693429</td>\n",
       "    </tr>\n",
       "    <tr>\n",
       "      <th>min</th>\n",
       "      <td>0.000000</td>\n",
       "      <td>1.000000</td>\n",
       "      <td>0.420000</td>\n",
       "      <td>0.000000</td>\n",
       "      <td>0.000000</td>\n",
       "      <td>0.000000</td>\n",
       "    </tr>\n",
       "    <tr>\n",
       "      <th>25%</th>\n",
       "      <td>0.000000</td>\n",
       "      <td>2.000000</td>\n",
       "      <td>20.125000</td>\n",
       "      <td>0.000000</td>\n",
       "      <td>0.000000</td>\n",
       "      <td>7.910400</td>\n",
       "    </tr>\n",
       "    <tr>\n",
       "      <th>50%</th>\n",
       "      <td>0.000000</td>\n",
       "      <td>3.000000</td>\n",
       "      <td>28.000000</td>\n",
       "      <td>0.000000</td>\n",
       "      <td>0.000000</td>\n",
       "      <td>14.454200</td>\n",
       "    </tr>\n",
       "    <tr>\n",
       "      <th>75%</th>\n",
       "      <td>1.000000</td>\n",
       "      <td>3.000000</td>\n",
       "      <td>38.000000</td>\n",
       "      <td>1.000000</td>\n",
       "      <td>0.000000</td>\n",
       "      <td>31.000000</td>\n",
       "    </tr>\n",
       "    <tr>\n",
       "      <th>max</th>\n",
       "      <td>1.000000</td>\n",
       "      <td>3.000000</td>\n",
       "      <td>80.000000</td>\n",
       "      <td>8.000000</td>\n",
       "      <td>6.000000</td>\n",
       "      <td>512.329200</td>\n",
       "    </tr>\n",
       "  </tbody>\n",
       "</table>\n",
       "</div>"
      ],
      "text/plain": [
       "         Survived      Pclass         Age       SibSp       Parch        Fare\n",
       "count  891.000000  891.000000  714.000000  891.000000  891.000000  891.000000\n",
       "mean     0.383838    2.308642   29.699118    0.523008    0.381594   32.204208\n",
       "std      0.486592    0.836071   14.526497    1.102743    0.806057   49.693429\n",
       "min      0.000000    1.000000    0.420000    0.000000    0.000000    0.000000\n",
       "25%      0.000000    2.000000   20.125000    0.000000    0.000000    7.910400\n",
       "50%      0.000000    3.000000   28.000000    0.000000    0.000000   14.454200\n",
       "75%      1.000000    3.000000   38.000000    1.000000    0.000000   31.000000\n",
       "max      1.000000    3.000000   80.000000    8.000000    6.000000  512.329200"
      ]
     },
     "execution_count": 4,
     "metadata": {},
     "output_type": "execute_result"
    }
   ],
   "source": [
    "df_train.describe()"
   ]
  },
  {
   "cell_type": "markdown",
   "metadata": {},
   "source": [
    "Da análise das variáveis numéricas, identifica-se que a variável *Age* possui 177 valores nulos. Essa ausência de dados deverá ser tratada adequadamente, uma vez que esta variável se refere a um atributo que define grupo com maior probabilidade de sobrevivência.\n",
    "\n",
    "Cabe mencionar que, apesar de numéricos, *Survived* e *Pclass* são variáveis do tipo qualitativas, que subdividem o conjunto de dados em categorias."
   ]
  },
  {
   "cell_type": "code",
   "execution_count": 5,
   "metadata": {},
   "outputs": [
    {
     "data": {
      "text/html": [
       "<div>\n",
       "<style scoped>\n",
       "    .dataframe tbody tr th:only-of-type {\n",
       "        vertical-align: middle;\n",
       "    }\n",
       "\n",
       "    .dataframe tbody tr th {\n",
       "        vertical-align: top;\n",
       "    }\n",
       "\n",
       "    .dataframe thead th {\n",
       "        text-align: right;\n",
       "    }\n",
       "</style>\n",
       "<table border=\"1\" class=\"dataframe\">\n",
       "  <thead>\n",
       "    <tr style=\"text-align: right;\">\n",
       "      <th></th>\n",
       "      <th>Name</th>\n",
       "      <th>Sex</th>\n",
       "      <th>Ticket</th>\n",
       "      <th>Cabin</th>\n",
       "      <th>Embarked</th>\n",
       "    </tr>\n",
       "  </thead>\n",
       "  <tbody>\n",
       "    <tr>\n",
       "      <th>count</th>\n",
       "      <td>891</td>\n",
       "      <td>891</td>\n",
       "      <td>891</td>\n",
       "      <td>204</td>\n",
       "      <td>889</td>\n",
       "    </tr>\n",
       "    <tr>\n",
       "      <th>unique</th>\n",
       "      <td>891</td>\n",
       "      <td>2</td>\n",
       "      <td>681</td>\n",
       "      <td>147</td>\n",
       "      <td>3</td>\n",
       "    </tr>\n",
       "    <tr>\n",
       "      <th>top</th>\n",
       "      <td>Beesley, Mr. Lawrence</td>\n",
       "      <td>male</td>\n",
       "      <td>CA. 2343</td>\n",
       "      <td>C23 C25 C27</td>\n",
       "      <td>S</td>\n",
       "    </tr>\n",
       "    <tr>\n",
       "      <th>freq</th>\n",
       "      <td>1</td>\n",
       "      <td>577</td>\n",
       "      <td>7</td>\n",
       "      <td>4</td>\n",
       "      <td>644</td>\n",
       "    </tr>\n",
       "  </tbody>\n",
       "</table>\n",
       "</div>"
      ],
      "text/plain": [
       "                         Name   Sex    Ticket        Cabin Embarked\n",
       "count                     891   891       891          204      889\n",
       "unique                    891     2       681          147        3\n",
       "top     Beesley, Mr. Lawrence  male  CA. 2343  C23 C25 C27        S\n",
       "freq                        1   577         7            4      644"
      ]
     },
     "execution_count": 5,
     "metadata": {},
     "output_type": "execute_result"
    }
   ],
   "source": [
    "# análise de variáveis qualitativas\n",
    "df_train.describe(include=['O'])"
   ]
  },
  {
   "cell_type": "markdown",
   "metadata": {},
   "source": [
    "Já na análise das variáveis qualitativas, ou categóricas, identificou-se que:\n",
    "- *Name* possui um valor único para cada amostra. Nesta forma, o dado não auxiliará na resposta de nenhum questionamento\n",
    "- *Ticket* tem um elevado índice de valores únicos. Ademais, não parece apoiar em nenhuma categorização de passageiros\n",
    "- *Cabin* está nula na maioria das amostras. A ausência de valores pode comprometer o sua utilização"
   ]
  },
  {
   "cell_type": "markdown",
   "metadata": {},
   "source": [
    "## Limpeza dos dados\n",
    "\n",
    "Considerando a análise dos dados realizada, opta-se pelas seguintes modificações no *dataframe*:\n",
    "\n",
    "1. Conversão da variável Sex em número\n",
    "2. Conversão da variável Embarked em número\n",
    "3. Criação do campo Title derivado de Name\n",
    "4. Remoção das variáveis Cabin, Ticket e Name\n",
    "5. Criação do campo Family\n",
    "6. Remoção das amostras onde Age é nulo\n",
    "7. Criação do campo AgeGroup derivado de Age"
   ]
  },
  {
   "cell_type": "markdown",
   "metadata": {},
   "source": [
    "### Conversão da variável Sex em número\n",
    "\n",
    "A variável Sex será convertida para numéro. Assim, será possível correlacionar com a variável Survived."
   ]
  },
  {
   "cell_type": "code",
   "execution_count": 6,
   "metadata": {},
   "outputs": [
    {
     "data": {
      "text/plain": [
       "array([0, 1], dtype=int64)"
      ]
     },
     "execution_count": 6,
     "metadata": {},
     "output_type": "execute_result"
    }
   ],
   "source": [
    "map_sex = {'male': 0, 'female': 1}\n",
    "df_train['Sex'] = df_train['Sex'].map(map_sex).astype(int)\n",
    "\n",
    "df_train['Sex'].unique()"
   ]
  },
  {
   "cell_type": "markdown",
   "metadata": {},
   "source": [
    "### Conversão da variável Embarked em número\n",
    "Com o mesmo intuito do caso anterior, a variável Embarked também será convertida para número e, assim, estabelecer a correlação com Survived."
   ]
  },
  {
   "cell_type": "code",
   "execution_count": 7,
   "metadata": {},
   "outputs": [
    {
     "data": {
      "text/plain": [
       "array([2, 0, 1], dtype=int64)"
      ]
     },
     "execution_count": 7,
     "metadata": {},
     "output_type": "execute_result"
    }
   ],
   "source": [
    "# Embarked tem 2 valores nulos. Para esta análise, eles serão desconsiderados\n",
    "df_train.dropna(subset=['Embarked'], inplace=True)\n",
    "\n",
    "map_embarked = {'C': 0, 'Q': 1, 'S': 2}\n",
    "df_train['Embarked'] = df_train['Embarked'].map(map_embarked).astype(int)\n",
    "\n",
    "df_train['Embarked'].unique()"
   ]
  },
  {
   "cell_type": "markdown",
   "metadata": {},
   "source": [
    "### Criação do campo Title derivado de Name\n",
    "\n",
    "O campo Name não possui correlação alguma com o campo Survived. Porém, se considerarmos o título do passageiro, podemos obter detalhes, tais como o status civil do passageiro, quando do sexo feminino, bem como se o passageiro pertencia à nobreza.\n",
    "\n",
    "Obs.: A extração dos pronomes de tratamento foi feita no notebook de exemplo do [desafio do Titanic](https://www.kaggle.com/startupsci/titanic-data-science-solutions). O método utilizado servirá como base para esse tratamento."
   ]
  },
  {
   "cell_type": "code",
   "execution_count": 8,
   "metadata": {},
   "outputs": [
    {
     "data": {
      "text/plain": [
       "array(['Mr', 'Mrs', 'Miss', 'Master', 'Don', 'Rev', 'Dr', 'Mme', 'Ms',\n",
       "       'Major', 'Lady', 'Sir', 'Mlle', 'Col', 'Capt', 'Countess',\n",
       "       'Jonkheer'], dtype=object)"
      ]
     },
     "execution_count": 8,
     "metadata": {},
     "output_type": "execute_result"
    }
   ],
   "source": [
    "df_train['Title'] = df_train['Name'].str.extract('([A-Za-z]+)\\.', expand=False)\n",
    "\n",
    "df_train['Title'].unique()"
   ]
  },
  {
   "cell_type": "markdown",
   "metadata": {},
   "source": [
    "Da extração do título, chegamos a um conjunto de 17 títulos distintos. O problema é que alguns desses títulos podem ser agrupados, por serem similares ou por representarem um conjunto muito pequeno do espaço amostral, conforme demonstrado no próximo passo."
   ]
  },
  {
   "cell_type": "code",
   "execution_count": 9,
   "metadata": {},
   "outputs": [
    {
     "data": {
      "text/plain": [
       "Mr          58.155231\n",
       "Miss        20.359955\n",
       "Mrs         13.948256\n",
       "Master       4.499438\n",
       "Dr           0.787402\n",
       "Rev          0.674916\n",
       "Col          0.224972\n",
       "Major        0.224972\n",
       "Mlle         0.224972\n",
       "Mme          0.112486\n",
       "Countess     0.112486\n",
       "Ms           0.112486\n",
       "Sir          0.112486\n",
       "Don          0.112486\n",
       "Lady         0.112486\n",
       "Capt         0.112486\n",
       "Jonkheer     0.112486\n",
       "Name: Title, dtype: float64"
      ]
     },
     "execution_count": 9,
     "metadata": {},
     "output_type": "execute_result"
    }
   ],
   "source": [
    "df_train['Title'].value_counts(normalize=True) * 100"
   ]
  },
  {
   "cell_type": "markdown",
   "metadata": {},
   "source": [
    "É possível verificar que aproximadamente 97% das amostras são representadas pelos títulos Mr, Miss, Mrs e Master. Amostras como \"Don\" ou \"Jonkheer\" representam somente 0,1% das amostras, que equivale a somente 1 amostra. Ademais, títulos como \"Ms\", \"Mlle\" e Mme são sinônimos de outros dois mais frequêntes, coforme explicação:\n",
    "- Mme.: é uma abreviação do termo francês Madame, e equivale a Mrs (mulher casada). \n",
    "- Mlle.: é uma abreviação do termo francês Mademoiselle, e equivale a Miss (mulher solteira). \n",
    "- Ms.: este caso se aplica para quando a mulher não deseja ser identificada como casada ou solteira. Como se trata de somente uma amostra, onde não há registro de cônjuge, vou considerar como Miss.  \n",
    "\n",
    "Neste caso, os 3 títulos serão devidamente agrupados nos respectivos títulos mais frequentes, e todos os demais serão agrupados na denominação \"Outros\"."
   ]
  },
  {
   "cell_type": "code",
   "execution_count": 10,
   "metadata": {},
   "outputs": [
    {
     "data": {
      "text/plain": [
       "array(['Mr', 'Mrs', 'Miss', 'Master', 'Outros'], dtype=object)"
      ]
     },
     "execution_count": 10,
     "metadata": {},
     "output_type": "execute_result"
    }
   ],
   "source": [
    "df_train['Title'] = df_train['Title'].replace(\n",
    "    ['Don', 'Rev', 'Dr', 'Major', 'Sir', 'Col', 'Lady', 'Capt', 'Countess','Jonkheer'], \n",
    "    'Outros'\n",
    ")\n",
    "\n",
    "df_train['Title'] = df_train['Title'].replace('Mlle', 'Miss')\n",
    "df_train['Title'] = df_train['Title'].replace('Ms', 'Miss')\n",
    "df_train['Title'] = df_train['Title'].replace('Mme', 'Mrs')\n",
    "\n",
    "df_train['Title'].unique()"
   ]
  },
  {
   "cell_type": "code",
   "execution_count": 11,
   "metadata": {},
   "outputs": [
    {
     "data": {
      "text/html": [
       "<div>\n",
       "<style scoped>\n",
       "    .dataframe tbody tr th:only-of-type {\n",
       "        vertical-align: middle;\n",
       "    }\n",
       "\n",
       "    .dataframe tbody tr th {\n",
       "        vertical-align: top;\n",
       "    }\n",
       "\n",
       "    .dataframe thead th {\n",
       "        text-align: right;\n",
       "    }\n",
       "</style>\n",
       "<table border=\"1\" class=\"dataframe\">\n",
       "  <thead>\n",
       "    <tr style=\"text-align: right;\">\n",
       "      <th></th>\n",
       "      <th>Name</th>\n",
       "      <th>Ticket</th>\n",
       "      <th>Cabin</th>\n",
       "      <th>Title</th>\n",
       "    </tr>\n",
       "  </thead>\n",
       "  <tbody>\n",
       "    <tr>\n",
       "      <th>count</th>\n",
       "      <td>889</td>\n",
       "      <td>889</td>\n",
       "      <td>202</td>\n",
       "      <td>889</td>\n",
       "    </tr>\n",
       "    <tr>\n",
       "      <th>unique</th>\n",
       "      <td>889</td>\n",
       "      <td>680</td>\n",
       "      <td>146</td>\n",
       "      <td>5</td>\n",
       "    </tr>\n",
       "    <tr>\n",
       "      <th>top</th>\n",
       "      <td>Beesley, Mr. Lawrence</td>\n",
       "      <td>CA. 2343</td>\n",
       "      <td>G6</td>\n",
       "      <td>Mr</td>\n",
       "    </tr>\n",
       "    <tr>\n",
       "      <th>freq</th>\n",
       "      <td>1</td>\n",
       "      <td>7</td>\n",
       "      <td>4</td>\n",
       "      <td>517</td>\n",
       "    </tr>\n",
       "  </tbody>\n",
       "</table>\n",
       "</div>"
      ],
      "text/plain": [
       "                         Name    Ticket Cabin Title\n",
       "count                     889       889   202   889\n",
       "unique                    889       680   146     5\n",
       "top     Beesley, Mr. Lawrence  CA. 2343    G6    Mr\n",
       "freq                        1         7     4   517"
      ]
     },
     "execution_count": 11,
     "metadata": {},
     "output_type": "execute_result"
    }
   ],
   "source": [
    "df_train.describe(include=['O'])"
   ]
  },
  {
   "cell_type": "markdown",
   "metadata": {},
   "source": [
    "Conforme verificado acima, o novo atributo Title não possui valores nulos. Vamos, por fim, convertê-los para categorias numéricas."
   ]
  },
  {
   "cell_type": "code",
   "execution_count": 12,
   "metadata": {},
   "outputs": [
    {
     "data": {
      "text/plain": [
       "array([1, 2, 3, 4, 5], dtype=int64)"
      ]
     },
     "execution_count": 12,
     "metadata": {},
     "output_type": "execute_result"
    }
   ],
   "source": [
    "map_title = {'Mr': 1, 'Mrs': 2, 'Miss': 3, 'Master': 4, 'Outros': 5}\n",
    "\n",
    "df_train['Title'] = df_train['Title'].map(map_title).astype(int)\n",
    "\n",
    "df_train['Title'].unique()"
   ]
  },
  {
   "cell_type": "markdown",
   "metadata": {},
   "source": [
    "### Remoção das variáveis Cabin, Ticket e Name\n",
    "Considerando o conjunto de questionamentos levantados, e que: \n",
    "- Name e Ticket possuem um elevado índice de valores únicos; e\n",
    "- Cabin é nula para a maioria das amostras \n",
    "\n",
    "opta-se por desconsiderar essas variáveis e removê-las do conjunto de dados."
   ]
  },
  {
   "cell_type": "code",
   "execution_count": 13,
   "metadata": {},
   "outputs": [
    {
     "data": {
      "text/plain": [
       "Index(['Survived', 'Pclass', 'Sex', 'Age', 'SibSp', 'Parch', 'Fare',\n",
       "       'Embarked', 'Title'],\n",
       "      dtype='object')"
      ]
     },
     "execution_count": 13,
     "metadata": {},
     "output_type": "execute_result"
    }
   ],
   "source": [
    "df_train = df_train.drop(['Cabin', 'Name', 'Ticket'], axis=1)\n",
    "df_train.columns"
   ]
  },
  {
   "cell_type": "markdown",
   "metadata": {},
   "source": [
    "### Criação do campo Family\n",
    "Para simplificar a análise, as variáveis SibSp e Parch serão somadas para identificar se o passageiro viajava com a família, ou se viajava sozinho. O objetivo é identificar se passageiros acompanhados por família possuíam mais chances de sobreviver que passageiros que viajaram sozinhos.\n",
    "\n",
    "A variável Family assumirá 2 valores: 1, quando a soma de SibSp e Parch for maior que 0; e 0, caso contrário."
   ]
  },
  {
   "cell_type": "code",
   "execution_count": 14,
   "metadata": {},
   "outputs": [
    {
     "data": {
      "text/html": [
       "<div>\n",
       "<style scoped>\n",
       "    .dataframe tbody tr th:only-of-type {\n",
       "        vertical-align: middle;\n",
       "    }\n",
       "\n",
       "    .dataframe tbody tr th {\n",
       "        vertical-align: top;\n",
       "    }\n",
       "\n",
       "    .dataframe thead th {\n",
       "        text-align: right;\n",
       "    }\n",
       "</style>\n",
       "<table border=\"1\" class=\"dataframe\">\n",
       "  <thead>\n",
       "    <tr style=\"text-align: right;\">\n",
       "      <th></th>\n",
       "      <th>Survived</th>\n",
       "      <th>Pclass</th>\n",
       "      <th>Sex</th>\n",
       "      <th>Age</th>\n",
       "      <th>SibSp</th>\n",
       "      <th>Parch</th>\n",
       "      <th>Fare</th>\n",
       "      <th>Embarked</th>\n",
       "      <th>Title</th>\n",
       "      <th>Family</th>\n",
       "    </tr>\n",
       "    <tr>\n",
       "      <th>PassengerId</th>\n",
       "      <th></th>\n",
       "      <th></th>\n",
       "      <th></th>\n",
       "      <th></th>\n",
       "      <th></th>\n",
       "      <th></th>\n",
       "      <th></th>\n",
       "      <th></th>\n",
       "      <th></th>\n",
       "      <th></th>\n",
       "    </tr>\n",
       "  </thead>\n",
       "  <tbody>\n",
       "    <tr>\n",
       "      <th>1</th>\n",
       "      <td>0</td>\n",
       "      <td>3</td>\n",
       "      <td>0</td>\n",
       "      <td>22.0</td>\n",
       "      <td>1</td>\n",
       "      <td>0</td>\n",
       "      <td>7.2500</td>\n",
       "      <td>2</td>\n",
       "      <td>1</td>\n",
       "      <td>1</td>\n",
       "    </tr>\n",
       "    <tr>\n",
       "      <th>2</th>\n",
       "      <td>1</td>\n",
       "      <td>1</td>\n",
       "      <td>1</td>\n",
       "      <td>38.0</td>\n",
       "      <td>1</td>\n",
       "      <td>0</td>\n",
       "      <td>71.2833</td>\n",
       "      <td>0</td>\n",
       "      <td>2</td>\n",
       "      <td>1</td>\n",
       "    </tr>\n",
       "    <tr>\n",
       "      <th>3</th>\n",
       "      <td>1</td>\n",
       "      <td>3</td>\n",
       "      <td>1</td>\n",
       "      <td>26.0</td>\n",
       "      <td>0</td>\n",
       "      <td>0</td>\n",
       "      <td>7.9250</td>\n",
       "      <td>2</td>\n",
       "      <td>3</td>\n",
       "      <td>0</td>\n",
       "    </tr>\n",
       "    <tr>\n",
       "      <th>4</th>\n",
       "      <td>1</td>\n",
       "      <td>1</td>\n",
       "      <td>1</td>\n",
       "      <td>35.0</td>\n",
       "      <td>1</td>\n",
       "      <td>0</td>\n",
       "      <td>53.1000</td>\n",
       "      <td>2</td>\n",
       "      <td>2</td>\n",
       "      <td>1</td>\n",
       "    </tr>\n",
       "    <tr>\n",
       "      <th>5</th>\n",
       "      <td>0</td>\n",
       "      <td>3</td>\n",
       "      <td>0</td>\n",
       "      <td>35.0</td>\n",
       "      <td>0</td>\n",
       "      <td>0</td>\n",
       "      <td>8.0500</td>\n",
       "      <td>2</td>\n",
       "      <td>1</td>\n",
       "      <td>0</td>\n",
       "    </tr>\n",
       "  </tbody>\n",
       "</table>\n",
       "</div>"
      ],
      "text/plain": [
       "             Survived  Pclass  Sex   Age  SibSp  Parch     Fare  Embarked  \\\n",
       "PassengerId                                                                 \n",
       "1                   0       3    0  22.0      1      0   7.2500         2   \n",
       "2                   1       1    1  38.0      1      0  71.2833         0   \n",
       "3                   1       3    1  26.0      0      0   7.9250         2   \n",
       "4                   1       1    1  35.0      1      0  53.1000         2   \n",
       "5                   0       3    0  35.0      0      0   8.0500         2   \n",
       "\n",
       "             Title  Family  \n",
       "PassengerId                 \n",
       "1                1       1  \n",
       "2                2       1  \n",
       "3                3       0  \n",
       "4                2       1  \n",
       "5                1       0  "
      ]
     },
     "execution_count": 14,
     "metadata": {},
     "output_type": "execute_result"
    }
   ],
   "source": [
    "df_train['Family'] = np.where(df_train['SibSp'] + df_train['Parch'] > 0, 1, 0)\n",
    "df_train.head()"
   ]
  },
  {
   "cell_type": "markdown",
   "metadata": {},
   "source": [
    "### Remoção das amostras onde Age é nulo\n",
    "No notebook do desafio do Titanic, é feito um enriquecimento de dados da variável Age, considerando a variação do valor em determinadas categorias de passageiros. Considerando o escopo desta análise, no entanto, opta-se por desconsiderar as amostras com Age nulo, totalizando num montante de 177 amostras."
   ]
  },
  {
   "cell_type": "code",
   "execution_count": 15,
   "metadata": {},
   "outputs": [
    {
     "name": "stdout",
     "output_type": "stream",
     "text": [
      "<class 'pandas.core.frame.DataFrame'>\n",
      "Int64Index: 712 entries, 1 to 891\n",
      "Data columns (total 10 columns):\n",
      "Survived    712 non-null int64\n",
      "Pclass      712 non-null int64\n",
      "Sex         712 non-null int32\n",
      "Age         712 non-null float64\n",
      "SibSp       712 non-null int64\n",
      "Parch       712 non-null int64\n",
      "Fare        712 non-null float64\n",
      "Embarked    712 non-null int32\n",
      "Title       712 non-null int32\n",
      "Family      712 non-null int32\n",
      "dtypes: float64(2), int32(4), int64(4)\n",
      "memory usage: 50.1 KB\n"
     ]
    }
   ],
   "source": [
    "df_train.dropna(subset=['Age'], inplace=True)\n",
    "df_train.info()"
   ]
  },
  {
   "cell_type": "markdown",
   "metadata": {},
   "source": [
    "### Criação do campo AgeGroup derivado de Age\n",
    "A variável AgeGroup se refere a faixas de idades da variável Age. Serão consideradas 4 faixas de idade: criança, adolescente, adulto e idoso, distribuídas conforme disposto abaixo:\n",
    "- criança: até 12 anos\n",
    "- adolescente: de 12 até 18 anos\n",
    "- adulto: de 18 até 60 anos\n",
    "- idoso: a partir de 60 anos\n",
    "\n",
    "Para representar os valores, serão utilizados os número 1, 2, 3 e 4 para criança, adolescente, adulto e idoso, respectivamente."
   ]
  },
  {
   "cell_type": "code",
   "execution_count": 16,
   "metadata": {},
   "outputs": [
    {
     "data": {
      "text/html": [
       "<div>\n",
       "<style scoped>\n",
       "    .dataframe tbody tr th:only-of-type {\n",
       "        vertical-align: middle;\n",
       "    }\n",
       "\n",
       "    .dataframe tbody tr th {\n",
       "        vertical-align: top;\n",
       "    }\n",
       "\n",
       "    .dataframe thead th {\n",
       "        text-align: right;\n",
       "    }\n",
       "</style>\n",
       "<table border=\"1\" class=\"dataframe\">\n",
       "  <thead>\n",
       "    <tr style=\"text-align: right;\">\n",
       "      <th></th>\n",
       "      <th>Survived</th>\n",
       "      <th>Pclass</th>\n",
       "      <th>Sex</th>\n",
       "      <th>Age</th>\n",
       "      <th>SibSp</th>\n",
       "      <th>Parch</th>\n",
       "      <th>Fare</th>\n",
       "      <th>Embarked</th>\n",
       "      <th>Title</th>\n",
       "      <th>Family</th>\n",
       "      <th>AgeGroup</th>\n",
       "    </tr>\n",
       "    <tr>\n",
       "      <th>PassengerId</th>\n",
       "      <th></th>\n",
       "      <th></th>\n",
       "      <th></th>\n",
       "      <th></th>\n",
       "      <th></th>\n",
       "      <th></th>\n",
       "      <th></th>\n",
       "      <th></th>\n",
       "      <th></th>\n",
       "      <th></th>\n",
       "      <th></th>\n",
       "    </tr>\n",
       "  </thead>\n",
       "  <tbody>\n",
       "    <tr>\n",
       "      <th>1</th>\n",
       "      <td>0</td>\n",
       "      <td>3</td>\n",
       "      <td>0</td>\n",
       "      <td>22.0</td>\n",
       "      <td>1</td>\n",
       "      <td>0</td>\n",
       "      <td>7.2500</td>\n",
       "      <td>2</td>\n",
       "      <td>1</td>\n",
       "      <td>1</td>\n",
       "      <td>(18.0, 60.0]</td>\n",
       "    </tr>\n",
       "    <tr>\n",
       "      <th>2</th>\n",
       "      <td>1</td>\n",
       "      <td>1</td>\n",
       "      <td>1</td>\n",
       "      <td>38.0</td>\n",
       "      <td>1</td>\n",
       "      <td>0</td>\n",
       "      <td>71.2833</td>\n",
       "      <td>0</td>\n",
       "      <td>2</td>\n",
       "      <td>1</td>\n",
       "      <td>(18.0, 60.0]</td>\n",
       "    </tr>\n",
       "    <tr>\n",
       "      <th>3</th>\n",
       "      <td>1</td>\n",
       "      <td>3</td>\n",
       "      <td>1</td>\n",
       "      <td>26.0</td>\n",
       "      <td>0</td>\n",
       "      <td>0</td>\n",
       "      <td>7.9250</td>\n",
       "      <td>2</td>\n",
       "      <td>3</td>\n",
       "      <td>0</td>\n",
       "      <td>(18.0, 60.0]</td>\n",
       "    </tr>\n",
       "    <tr>\n",
       "      <th>4</th>\n",
       "      <td>1</td>\n",
       "      <td>1</td>\n",
       "      <td>1</td>\n",
       "      <td>35.0</td>\n",
       "      <td>1</td>\n",
       "      <td>0</td>\n",
       "      <td>53.1000</td>\n",
       "      <td>2</td>\n",
       "      <td>2</td>\n",
       "      <td>1</td>\n",
       "      <td>(18.0, 60.0]</td>\n",
       "    </tr>\n",
       "    <tr>\n",
       "      <th>5</th>\n",
       "      <td>0</td>\n",
       "      <td>3</td>\n",
       "      <td>0</td>\n",
       "      <td>35.0</td>\n",
       "      <td>0</td>\n",
       "      <td>0</td>\n",
       "      <td>8.0500</td>\n",
       "      <td>2</td>\n",
       "      <td>1</td>\n",
       "      <td>0</td>\n",
       "      <td>(18.0, 60.0]</td>\n",
       "    </tr>\n",
       "  </tbody>\n",
       "</table>\n",
       "</div>"
      ],
      "text/plain": [
       "             Survived  Pclass  Sex   Age  SibSp  Parch     Fare  Embarked  \\\n",
       "PassengerId                                                                 \n",
       "1                   0       3    0  22.0      1      0   7.2500         2   \n",
       "2                   1       1    1  38.0      1      0  71.2833         0   \n",
       "3                   1       3    1  26.0      0      0   7.9250         2   \n",
       "4                   1       1    1  35.0      1      0  53.1000         2   \n",
       "5                   0       3    0  35.0      0      0   8.0500         2   \n",
       "\n",
       "             Title  Family      AgeGroup  \n",
       "PassengerId                               \n",
       "1                1       1  (18.0, 60.0]  \n",
       "2                2       1  (18.0, 60.0]  \n",
       "3                3       0  (18.0, 60.0]  \n",
       "4                2       1  (18.0, 60.0]  \n",
       "5                1       0  (18.0, 60.0]  "
      ]
     },
     "execution_count": 16,
     "metadata": {},
     "output_type": "execute_result"
    }
   ],
   "source": [
    "df_train['AgeGroup'] = pd.cut(df_train['Age'], [0, 12, 18, 60, df_train['Age'].max()])\n",
    "df_train.head()"
   ]
  },
  {
   "cell_type": "code",
   "execution_count": 17,
   "metadata": {},
   "outputs": [
    {
     "data": {
      "text/plain": [
       "array([3, 1, 2, 4], dtype=int64)"
      ]
     },
     "execution_count": 17,
     "metadata": {},
     "output_type": "execute_result"
    }
   ],
   "source": [
    "# A função cut do pandas cria faixas de categoria do tipo pandas.Categorical.\n",
    "# Para converter as 4 faixas nos respectivos valores numéricos, me baseei no seguinte tópico do StackOverflow\n",
    "# https://stackoverflow.com/questions/51311831/how-to-convert-categorical-data-to-numerical-data\n",
    "df_train['AgeGroup'] = df_train['AgeGroup'].cat.codes + 1\n",
    "df_train['AgeGroup'].unique()"
   ]
  },
  {
   "cell_type": "markdown",
   "metadata": {},
   "source": [
    "### Salvando o arquivo com os dados tratados"
   ]
  },
  {
   "cell_type": "code",
   "execution_count": 18,
   "metadata": {},
   "outputs": [],
   "source": [
    "df_train.to_csv('train_tratado.csv', index=False)"
   ]
  },
  {
   "cell_type": "markdown",
   "metadata": {},
   "source": [
    "## Análise\n",
    "Com os dados devidamente tratados, vamos analisar o conjunto disponível para tentar responder cada um dos questionamentos mencionados anteriormente, à saber:\n",
    "- Passageiros de primeira classe, mulheres e crianças obtiveram a maior chance de sobreviver?\n",
    "- No caso de crianças, a classe do passageiro afetou na probabilidade de sobrevivência?\n",
    "- Mulheres casadas possuem mais chances de sobreviver do que mulheres solteiras?\n",
    "- Passageiros que viajavam acompanhados possuem mais chances de sobreviver do que passageiros que viajavam sozinhos?\n",
    "- A diferença na taxa de sobrevivência dentre homens e mulheres é menor na primeira classe do que nas duas outras classes?\n",
    "- O porto de embarque afetou na probabilidade de sobrevivência do passageiro?\n",
    "\n",
    "Primeiramente, vamos carregar os dados novamente no notebook, de forma a garantir um ponto intermediário de retorno."
   ]
  },
  {
   "cell_type": "code",
   "execution_count": 19,
   "metadata": {},
   "outputs": [
    {
     "data": {
      "text/html": [
       "<div>\n",
       "<style scoped>\n",
       "    .dataframe tbody tr th:only-of-type {\n",
       "        vertical-align: middle;\n",
       "    }\n",
       "\n",
       "    .dataframe tbody tr th {\n",
       "        vertical-align: top;\n",
       "    }\n",
       "\n",
       "    .dataframe thead th {\n",
       "        text-align: right;\n",
       "    }\n",
       "</style>\n",
       "<table border=\"1\" class=\"dataframe\">\n",
       "  <thead>\n",
       "    <tr style=\"text-align: right;\">\n",
       "      <th></th>\n",
       "      <th>Survived</th>\n",
       "      <th>Pclass</th>\n",
       "      <th>Sex</th>\n",
       "      <th>Age</th>\n",
       "      <th>SibSp</th>\n",
       "      <th>Parch</th>\n",
       "      <th>Fare</th>\n",
       "      <th>Embarked</th>\n",
       "      <th>Title</th>\n",
       "      <th>Family</th>\n",
       "      <th>AgeGroup</th>\n",
       "    </tr>\n",
       "  </thead>\n",
       "  <tbody>\n",
       "    <tr>\n",
       "      <th>0</th>\n",
       "      <td>0</td>\n",
       "      <td>3</td>\n",
       "      <td>0</td>\n",
       "      <td>22.0</td>\n",
       "      <td>1</td>\n",
       "      <td>0</td>\n",
       "      <td>7.2500</td>\n",
       "      <td>2</td>\n",
       "      <td>1</td>\n",
       "      <td>1</td>\n",
       "      <td>3</td>\n",
       "    </tr>\n",
       "    <tr>\n",
       "      <th>1</th>\n",
       "      <td>1</td>\n",
       "      <td>1</td>\n",
       "      <td>1</td>\n",
       "      <td>38.0</td>\n",
       "      <td>1</td>\n",
       "      <td>0</td>\n",
       "      <td>71.2833</td>\n",
       "      <td>0</td>\n",
       "      <td>2</td>\n",
       "      <td>1</td>\n",
       "      <td>3</td>\n",
       "    </tr>\n",
       "    <tr>\n",
       "      <th>2</th>\n",
       "      <td>1</td>\n",
       "      <td>3</td>\n",
       "      <td>1</td>\n",
       "      <td>26.0</td>\n",
       "      <td>0</td>\n",
       "      <td>0</td>\n",
       "      <td>7.9250</td>\n",
       "      <td>2</td>\n",
       "      <td>3</td>\n",
       "      <td>0</td>\n",
       "      <td>3</td>\n",
       "    </tr>\n",
       "    <tr>\n",
       "      <th>3</th>\n",
       "      <td>1</td>\n",
       "      <td>1</td>\n",
       "      <td>1</td>\n",
       "      <td>35.0</td>\n",
       "      <td>1</td>\n",
       "      <td>0</td>\n",
       "      <td>53.1000</td>\n",
       "      <td>2</td>\n",
       "      <td>2</td>\n",
       "      <td>1</td>\n",
       "      <td>3</td>\n",
       "    </tr>\n",
       "    <tr>\n",
       "      <th>4</th>\n",
       "      <td>0</td>\n",
       "      <td>3</td>\n",
       "      <td>0</td>\n",
       "      <td>35.0</td>\n",
       "      <td>0</td>\n",
       "      <td>0</td>\n",
       "      <td>8.0500</td>\n",
       "      <td>2</td>\n",
       "      <td>1</td>\n",
       "      <td>0</td>\n",
       "      <td>3</td>\n",
       "    </tr>\n",
       "  </tbody>\n",
       "</table>\n",
       "</div>"
      ],
      "text/plain": [
       "   Survived  Pclass  Sex   Age  SibSp  Parch     Fare  Embarked  Title  \\\n",
       "0         0       3    0  22.0      1      0   7.2500         2      1   \n",
       "1         1       1    1  38.0      1      0  71.2833         0      2   \n",
       "2         1       3    1  26.0      0      0   7.9250         2      3   \n",
       "3         1       1    1  35.0      1      0  53.1000         2      2   \n",
       "4         0       3    0  35.0      0      0   8.0500         2      1   \n",
       "\n",
       "   Family  AgeGroup  \n",
       "0       1         3  \n",
       "1       1         3  \n",
       "2       0         3  \n",
       "3       1         3  \n",
       "4       0         3  "
      ]
     },
     "execution_count": 19,
     "metadata": {},
     "output_type": "execute_result"
    }
   ],
   "source": [
    "df_train = pd.read_csv('train_tratado.csv')\n",
    "df_train.head()"
   ]
  },
  {
   "cell_type": "markdown",
   "metadata": {},
   "source": [
    "### Funções de apoio\n",
    "As funções abaixo servirão de apoio nas análise seguintes:"
   ]
  },
  {
   "cell_type": "code",
   "execution_count": 20,
   "metadata": {},
   "outputs": [],
   "source": [
    "def groupby_mean_bar_plot(dataframe, groupby_vars, x_var_name, **kwargs):\n",
    "    \"\"\"\n",
    "    Função que gera um gráfico de barras considerando a média de uma variável resultante do agrupamento\n",
    "    de outras variáveis de um pandas.DataFrame\n",
    "    \n",
    "    Uso:\n",
    "        groupby_mean_bar_plot(pandas.DataFrame, list(), str, x_labels=list(), title=str)\n",
    "    \n",
    "    Argumentos:\n",
    "        dataframe:    Objeto pandas.DataFrame\n",
    "        groupby_vars: list com os nomes das colunas para o groupby \n",
    "        x_var_name:   nome da coluna para o calculo da média\n",
    "        x_labels:     labels a serem utilizadas no eixo X do gráfico\n",
    "        title:        título do gráfico\n",
    "    \"\"\"\n",
    "    axes = dataframe.groupby(groupby_vars).mean()[x_var_name].plot(kind='bar', grid=True)\n",
    "    if 'x_labels' in kwargs.keys():\n",
    "        axes.set_xticklabels(kwargs['x_labels'])\n",
    "    if 'title' in kwargs.keys():\n",
    "        axes.set_title(kwargs['title'])\n",
    "\n",
    "def series_pie_plot(series, **kwargs):\n",
    "    \"\"\"\n",
    "    Função que gera um gráfico de pizza a partir de um objeto pandas.Series.\n",
    "    \n",
    "    Uso:\n",
    "        series_pie_plot(pandas.Series, title=str, labels=list())\n",
    "    \n",
    "    Argumentos:\n",
    "        series: Objeto pandas.Series\n",
    "        title:  título do gráfico\n",
    "        labels: list com os nomes a serem utilizados na legenda\n",
    "        \n",
    "    Referência:\n",
    "        http://www.datasciencemadesimple.com/pie-chart-in-python-with-legends/\n",
    "    \"\"\"\n",
    "    explode = (0.1,)*len(series)\n",
    "    plt.pie(series, labels=series, explode=explode, autopct='%1.1f%%')\n",
    "    \n",
    "    if 'title' in kwargs.keys():\n",
    "        plt.title(kwargs['title'])\n",
    "    \n",
    "    if 'labels' in kwargs.keys():\n",
    "        plt.legend(kwargs['labels'],loc=4)\n",
    "    \n",
    "    plt.show()\n",
    "    \n",
    "def hist_analysis_grid(dataframe, var_name, col_name, row_name):    \n",
    "    \"\"\"\n",
    "    Função que gera um grid de gráfico que gera um histograma para uma determinada variável para\n",
    "    cada relação col_name x row_name. Permite que se avalie como uma variável se comporta na \n",
    "    sua distribuição de amostras entre seus valores únicos utilizando a combinação de mais\n",
    "    duas outras variáveis.\n",
    "    \n",
    "    Uso:\n",
    "        hist_analysis_grid(pandas.DataFrame, str, str, str)\n",
    "    \n",
    "    Argumentos:\n",
    "        dataframe: Objeto pandas.DataFrame\n",
    "        var_name:  nome da coluna para a qual será gerado os histogramas\n",
    "        col_name:  nome da coluna que será a coluna da análise matricial de histogramas\n",
    "        row_name:  nome da coluna que será a linha da análise matricial de histrogramas\n",
    "    \n",
    "    Referência:\n",
    "        https://seaborn.pydata.org/tutorial/axis_grids.html\n",
    "    \"\"\"\n",
    "    # calculado para manter somente um espaço entre as variáveis\n",
    "    bins = len(dataframe[var_name].unique())*2 - 1\n",
    "    \n",
    "    grid = sns.FacetGrid(dataframe, col=col_name, row=row_name, height=3)\n",
    "    grid.map(plt.hist, var_name, bins=bins)\n",
    "    grid.add_legend();\n",
    "    \n",
    "def two_series_bar_plot (series, labels, **kwargs):\n",
    "    \"\"\"\n",
    "    Função que gera dois gráficos de barra sobrepostos a partir de duas séries de dados.\n",
    "    \n",
    "    Uso:\n",
    "        two_series_bar_plot(dict(key: list()), list(), title=str, xlabel=str, ylabel=str, loc=int)\n",
    "    \n",
    "    Argumentos:\n",
    "        series: dicionário com duas chaves, cada uma representando uma série de dados disponibilizada \n",
    "                em objetos list(). A chave do dicionário será utilizada na legenda do gráfico\n",
    "        labels: list contendo as labels a serem utilizadas no eixo X\n",
    "        title:  título do gráfico\n",
    "        xlabel: título do eixo X\n",
    "        ylabel: título do eixo Y\n",
    "        loc:    localização das legendas no gráfico (vide doc de matplotlib.pyplot)\n",
    "    \n",
    "    Referência:\n",
    "        Codigo tirado do exemplo fornecido pelo instrutor Thiago, da Udacity\n",
    "    \"\"\"\n",
    "    keys = list(series.keys())\n",
    "    pos = np.arange(len(series[keys[0]])) # posições das barras\n",
    "    tam = .35 # distancia das barras.\n",
    "    loc = 4\n",
    "\n",
    "    fig, ax = plt.subplots() # para plotar vários gráficos em uma mesma figura.\n",
    "    # Ambos os plots seguem a mesma ideia, a posição da barra é dada pelo primeiro \n",
    "    # argumento:\n",
    "    # - para a barra ficar a esquerda do centro do tick em x\n",
    "    # + para a barra ficar a direita do centro do tick em x.\n",
    "    plt1 = ax.bar(pos-tam/2, series[keys[0]], tam, color='blue', label=keys[0])\n",
    "    plt2 = ax.bar(pos+tam/2, series[keys[1]], tam, color='red', label=keys[1])\n",
    "\n",
    "    # Quando se usa axes você deve usar a axe criada para adicionar titulos e rótulos.\n",
    "    if 'title' in kwargs.keys():\n",
    "        ax.set_title(kwargs['title'])  \n",
    "    if 'xlabel' in kwargs.keys():\n",
    "        ax.set_xlabel(kwargs['xlabel'])\n",
    "    if 'ylabel' in kwargs.keys():\n",
    "        ax.set_ylabel(kwargs['ylabel'])\n",
    "    \n",
    "    # Define as posições dos ticks, pos é um array da seguinte forma [0, 1, 2]\n",
    "    ax.set_xticks(pos) \n",
    "    # rotation faz o angulo do texto girar em graism e ha diz qual ponto deve ser \n",
    "    # alinhado o texto\n",
    "    ax.set_xticklabels(labels, rotation=45, ha='right') \n",
    "    \n",
    "    if 'loc' in kwargs.keys():\n",
    "        loc = kwargs['loc']\n",
    "        \n",
    "    ax.legend(loc=loc); # legend faz os labels se tornarem labels de legendas na figura. \n"
   ]
  },
  {
   "cell_type": "markdown",
   "metadata": {},
   "source": [
    "### Correlação das variáveis com a probabilidade de sobrevivência"
   ]
  },
  {
   "cell_type": "code",
   "execution_count": 21,
   "metadata": {},
   "outputs": [
    {
     "data": {
      "text/plain": [
       "Survived    1.000000\n",
       "Pclass     -0.356462\n",
       "Sex         0.536762\n",
       "Age        -0.082446\n",
       "SibSp      -0.015523\n",
       "Parch       0.095265\n",
       "Fare        0.266100\n",
       "Embarked   -0.181979\n",
       "Title       0.391611\n",
       "Family      0.199741\n",
       "AgeGroup   -0.130023\n",
       "Name: Survived, dtype: float64"
      ]
     },
     "execution_count": 21,
     "metadata": {},
     "output_type": "execute_result"
    }
   ],
   "source": [
    "survived_corr = df_train.corr()['Survived']\n",
    "survived_corr"
   ]
  },
  {
   "cell_type": "code",
   "execution_count": 22,
   "metadata": {},
   "outputs": [
    {
     "data": {
      "image/png": "[encoded data removed]",
      "text/plain": [
       "<Figure size 864x360 with 1 Axes>"
      ]
     },
     "metadata": {
      "needs_background": "light"
     },
     "output_type": "display_data"
    }
   ],
   "source": [
    "# transformar em valores absolutos para montar gráfico\n",
    "abs_survived_corr = survived_corr.abs()\n",
    "# remove Survived\n",
    "abs_survived_corr.drop('Survived', inplace=True)\n",
    "# ordena a série\n",
    "abs_survived_corr.sort_values(ascending=False, inplace=True)\n",
    "\n",
    "abs_survived_corr.plot(kind='bar', grid=True, figsize=(12,5), title='Correlação de variáveis com Survived');"
   ]
  },
  {
   "cell_type": "markdown",
   "metadata": {},
   "source": [
    "Pelo resultado da análise de correlação das demais variáveis com a variável Survived, identificou-se que:\n",
    "- Além do sexo (Sex), classe (Pclass), e idade (Age), outras variáveis como a taxa da passagem (Fare) e o porto onde embarcou (Embarked) possuem elevada correlação com a variável Survived;\n",
    "- A variável criada Title tem elevada correlação com Survived, mas pode ser consequência da sua íntima correlação com Sex (uma vez que há títulos para mulheres e títulos para homens);\n",
    "- O uso de faixas etárias aumentou a correlação entre a dimensão de idade e a variável Survived. Isso demonstra que há faixas etárias que foram efetivamente priorizadas. E como a correlação é negativa, mostra que há maior probabilidade de sobrevivência das faixas mais baixas, ou seja, crianças;\n",
    "- Há correlação direta entre o passageiro ter viajado acompanhado de família (Family) e a variável Survived.\n",
    "\n",
    "A partir dos dados de correlação, é possível identificar que, de fato, passageiros de primeira classe, mulheres e crianças tiveram maior probabilidade de sobreviver."
   ]
  },
  {
   "cell_type": "code",
   "execution_count": 23,
   "metadata": {},
   "outputs": [
    {
     "data": {
      "image/png": "[encoded data removed]",
      "text/plain": [
       "<Figure size 432x288 with 1 Axes>"
      ]
     },
     "metadata": {
      "needs_background": "light"
     },
     "output_type": "display_data"
    }
   ],
   "source": [
    "# Desenhar o gráfico da média de sobrevivência por Sex, AgeGroup e Pclass\n",
    "groupby_mean_bar_plot(\n",
    "    df_train, \n",
    "    ['Sex'], \n",
    "    'Survived', \n",
    "    x_labels=['Masculino','Feminino'], \n",
    "    title='Média de sobreviventes por sexo'\n",
    ")"
   ]
  },
  {
   "cell_type": "code",
   "execution_count": 24,
   "metadata": {},
   "outputs": [
    {
     "data": {
      "image/png": "[encoded data removed]",
      "text/plain": [
       "<Figure size 432x288 with 1 Axes>"
      ]
     },
     "metadata": {
      "needs_background": "light"
     },
     "output_type": "display_data"
    }
   ],
   "source": [
    "groupby_mean_bar_plot(\n",
    "    df_train, \n",
    "    ['Pclass'], \n",
    "    'Survived', \n",
    "    x_labels=['1a', '2a', '3a'],\n",
    "    title='Média de sobreviventes por classe'\n",
    ")"
   ]
  },
  {
   "cell_type": "code",
   "execution_count": 25,
   "metadata": {},
   "outputs": [
    {
     "data": {
      "image/png": "[encoded data removed]",
      "text/plain": [
       "<Figure size 432x288 with 1 Axes>"
      ]
     },
     "metadata": {
      "needs_background": "light"
     },
     "output_type": "display_data"
    }
   ],
   "source": [
    "groupby_mean_bar_plot(\n",
    "    df_train, \n",
    "    ['AgeGroup'], \n",
    "    'Survived', \n",
    "    x_labels=['Criança', 'Adolescente', 'Adulto', 'Idoso'],\n",
    "    title='Média de sobreviventes por faixas etárias'\n",
    ")"
   ]
  },
  {
   "cell_type": "markdown",
   "metadata": {},
   "source": [
    "### Priorização de crianças por classe\n",
    "Para crianças, espera-se que não haja priorização por classe, gerando apenas uma pequena variação entre os valores encontrados. Para validar a existência dessa priorização considerando o espaço amostral, será analisada a variável Survived em função de Pclass para o AgeGroup 1 (criança)."
   ]
  },
  {
   "cell_type": "code",
   "execution_count": 26,
   "metadata": {},
   "outputs": [
    {
     "data": {
      "image/png": "[encoded data removed]",
      "text/plain": [
       "<Figure size 432x288 with 1 Axes>"
      ]
     },
     "metadata": {
      "needs_background": "light"
     },
     "output_type": "display_data"
    }
   ],
   "source": [
    "groupby_mean_bar_plot(\n",
    "    df_train.query('AgeGroup == 1'), \n",
    "    ['Pclass'], \n",
    "    'Survived', \n",
    "    x_labels=['1a', '2a', '3a'],\n",
    "    title='Média de crianças sobreviventes por classe'\n",
    ")"
   ]
  },
  {
   "cell_type": "code",
   "execution_count": 27,
   "metadata": {},
   "outputs": [
    {
     "data": {
      "image/png": "[encoded data removed]",
      "text/plain": [
       "<Figure size 432x288 with 1 Axes>"
      ]
     },
     "metadata": {},
     "output_type": "display_data"
    }
   ],
   "source": [
    "series_pie_plot(\n",
    "    df_train.query('AgeGroup == 1').groupby(['Pclass']).count()['Survived'], \n",
    "    labels=['1a', '2a', '3a'],\n",
    "    title='Distribuição de crianças por classe'\n",
    ")"
   ]
  },
  {
   "cell_type": "markdown",
   "metadata": {},
   "source": [
    "Da análise da média de sobrevivência de crianças pelas 3 classes, percebe-se que a 2ª classe teve 100% de sobreviventes, superior inclusive a 1ª classe, enquanto crianças da 3ª classe tiveram menos que 50% de chances de sobreviver. No entanto, como o espaço amostral dispõe de somente 4 crianças de 1ª classe, e pode esta ter sido vítima do acidente antes mesmo de alcançar algum bote salva-vidas, é possível inferir que houve priorização das crianças de 1ª e 2ª classe de maneira equivalente, em detrimento das crianças de 3ª classe.\n",
    "\n",
    "Essa percepção é ratificada quando se diminui ainda mais a idade dos passageiros, considerando crianças de até 5 anos. Apesar do percentual de crianças passageiras da 3ª classe sobreviventes ser superior à análise de até 12 anos, é muito inferior ao percentual das duas classes superiores."
   ]
  },
  {
   "cell_type": "code",
   "execution_count": 28,
   "metadata": {},
   "outputs": [
    {
     "data": {
      "image/png": "[encoded data removed]",
      "text/plain": [
       "<Figure size 432x288 with 1 Axes>"
      ]
     },
     "metadata": {
      "needs_background": "light"
     },
     "output_type": "display_data"
    }
   ],
   "source": [
    "groupby_mean_bar_plot(\n",
    "    df_train.query('Age <=5'), \n",
    "    ['Pclass'], \n",
    "    'Survived', \n",
    "    x_labels=['1a', '2a', '3a'],\n",
    "    title='Média de sobreviventes com idade igual ou inferior a 5 anos por classe'\n",
    ")"
   ]
  },
  {
   "cell_type": "code",
   "execution_count": 29,
   "metadata": {},
   "outputs": [
    {
     "data": {
      "image/png": "[encoded data removed]",
      "text/plain": [
       "<Figure size 432x288 with 1 Axes>"
      ]
     },
     "metadata": {},
     "output_type": "display_data"
    }
   ],
   "source": [
    "series_pie_plot(\n",
    "    df_train.query('Age <= 5').groupby(['Pclass']).count()['Survived'], \n",
    "    labels=['1a', '2a', '3a'],\n",
    "    title='Distribuição de crianças com idade igual ou inferior a 5 anos por classe'\n",
    ")"
   ]
  },
  {
   "cell_type": "markdown",
   "metadata": {},
   "source": [
    "### Taxa de sobrevivência entre mulheres casadas e solteiras\n",
    "Conforme verificado, as mulheres obtiveram alta taxa de sobrevivência. Vamos verificar se estar casada ou não tem alguma relação com a probabilidade de sobrevivência. Para tanto, será utilizado a variável Title, onde \"Mrs\" (2) designa mulheres casadas e \"Miss\" (3), solteiras."
   ]
  },
  {
   "cell_type": "code",
   "execution_count": 30,
   "metadata": {},
   "outputs": [
    {
     "name": "stdout",
     "output_type": "stream",
     "text": [
      "78.7% (85) de um total de 108 Mulheres Casadas sobreviveram\n",
      "72.3% (107) de um total de 148 Mulheres Solteiras sobreviveram\n"
     ]
    }
   ],
   "source": [
    "map_title = {'2': 'Mulheres Casadas', '3': 'Mulheres Solteiras'}\n",
    "for title in '2', '3':\n",
    "    df_groupby_title = df_train.query('Title == {}'.format(title)).groupby(['Title'])\n",
    "    pct_survived = round(df_groupby_title.mean()['Survived'].max()*100, 2)\n",
    "    total_survived = df_groupby_title.sum()['Survived'].max()\n",
    "    total = df_groupby_title.count()['Survived'].max()\n",
    "    print('{}% ({}) de um total de {} {} sobreviveram'.format(pct_survived, total_survived, total, map_title[title]))"
   ]
  },
  {
   "cell_type": "markdown",
   "metadata": {},
   "source": [
    "Considerando a análise somente pela dimensão de mulheres casadas ou solteiras, obtém-se uma diferença inconclusiva, inclusive porque o montante de mulheres solteiras que sobreviveu é superior ao montante de mulheres casadas."
   ]
  },
  {
   "cell_type": "code",
   "execution_count": 31,
   "metadata": {},
   "outputs": [
    {
     "data": {
      "image/png": "[encoded data removed]",
      "text/plain": [
       "<Figure size 656x432 with 6 Axes>"
      ]
     },
     "metadata": {
      "needs_background": "light"
     },
     "output_type": "display_data"
    }
   ],
   "source": [
    "hist_analysis_grid(df_train.query('Title in (2, 3)'), 'Title', 'Pclass', 'Survived')"
   ]
  },
  {
   "cell_type": "markdown",
   "metadata": {},
   "source": [
    "Considerando a análise de mulheres casadas e solteiras pelas dimensões Survived e Pclass, verifica-se que não se guarda nenhum traço de priorização dentre esses dois tipos quando se verifica o total de sobreviventes e não sobreviventes pelas 3 classes de passageiros. É possível identificar que há mais sobreviventes do tipo que tinha mais passageiros para cada um dos 6 histogramas acima. Logo, ser casada ou solteira parece não inferir na taxa de sobrevivência de passageiros do sexo feminino.\n",
    "\n",
    "Porém, a análise do status civil pouco interessa se o passageiro não estiver acompanhado de sua família. Neste caso, substitui-se a variável Pclass pela variável Family."
   ]
  },
  {
   "cell_type": "code",
   "execution_count": 32,
   "metadata": {},
   "outputs": [
    {
     "data": {
      "image/png": "[encoded data removed]",
      "text/plain": [
       "<Figure size 440x432 with 4 Axes>"
      ]
     },
     "metadata": {
      "needs_background": "light"
     },
     "output_type": "display_data"
    }
   ],
   "source": [
    "hist_analysis_grid(df_train.query('Title in (2, 3)'), 'Title', 'Family', 'Survived')\n"
   ]
  },
  {
   "cell_type": "markdown",
   "metadata": {},
   "source": [
    "Nesta análise, é verificado uma contraposição à teoria levantada. No caso de mulheres solteiras, há mais sobreviventes quando não estão acompanhadas por família. Se a diferença entre casada e solteira seria a presença de família para apoiá-la ou priorizá-la (no caso de filhos), o fato de mais mulheres solteiras terem sobrevivido quando não acompanhadas de família pode ser um fator crítico para descaracterizar tal hipótese."
   ]
  },
  {
   "cell_type": "markdown",
   "metadata": {},
   "source": [
    "### Taxa de sobrevivência entre passageiros com família e sem família\n",
    "Conforme verificado no caso de passageiros do sexo feminino, estar acompanhado de família não parece guardar relação com a probabilidade sobrevivência do mesmo. Porém, homens acompanhados de suas respectivas famílias parecem ter mais chances de sobreviver, conforme gráfico abaixo:"
   ]
  },
  {
   "cell_type": "code",
   "execution_count": 33,
   "metadata": {},
   "outputs": [
    {
     "data": {
      "image/png": "[encoded data removed]",
      "text/plain": [
       "<Figure size 432x288 with 1 Axes>"
      ]
     },
     "metadata": {
      "needs_background": "light"
     },
     "output_type": "display_data"
    }
   ],
   "source": [
    "sex_series = { \n",
    "    'Homem': df_train.query('Sex == 0').groupby(['Family']).mean()['Survived'].values * 100,\n",
    "    'Mulher': df_train.query('Sex == 1').groupby(['Family']).mean()['Survived'].values * 100\n",
    "}\n",
    "\n",
    "two_series_bar_plot(\n",
    "    sex_series, \n",
    "    ['Sozinho', 'Acompanhado'], \n",
    "    title='Taxa de sobrevivência por sexo/acompanhantes',\n",
    "    ylabel='% Sobrevivência'\n",
    ")"
   ]
  },
  {
   "cell_type": "markdown",
   "metadata": {},
   "source": [
    "Porém, essa variação pode ser dar por outra variável, como por exemplo, a classe do passageiro."
   ]
  },
  {
   "cell_type": "code",
   "execution_count": 34,
   "metadata": {},
   "outputs": [
    {
     "data": {
      "image/png": "[encoded data removed]",
      "text/plain": [
       "<Figure size 432x288 with 1 Axes>"
      ]
     },
     "metadata": {
      "needs_background": "light"
     },
     "output_type": "display_data"
    }
   ],
   "source": [
    "family_series = {\n",
    "    'Acompanhado': df_train.query('Family == 1 and Sex == 0').groupby(['Pclass']).mean()['Survived'].values * 100,\n",
    "    'Sozinho': df_train.query('Family == 0 and Sex == 0').groupby(['Pclass']).mean()['Survived'].values * 100\n",
    "}\n",
    "\n",
    "two_series_bar_plot(\n",
    "    family_series,\n",
    "    ['1a', '2a', '3a'],\n",
    "    title='Taxa de sobrevivência de homens por classe',\n",
    "    ylabel='% Sobrevivência',\n",
    "    xlabel='Classe'\n",
    ")"
   ]
  },
  {
   "cell_type": "markdown",
   "metadata": {},
   "source": [
    "Aparentemente, passageiro do sexo masculino possuem maior probabilidade sobreviver se acompanhados de família. Esta relação se mantém dentre as várias classes de passageiros, e é acentuada na 2ª classe. Cabe verificar se o montante de passageiros sobreviventes é considerável."
   ]
  },
  {
   "cell_type": "code",
   "execution_count": 35,
   "metadata": {},
   "outputs": [
    {
     "data": {
      "image/png": "[encoded data removed]",
      "text/plain": [
       "<Figure size 432x288 with 1 Axes>"
      ]
     },
     "metadata": {
      "needs_background": "light"
     },
     "output_type": "display_data"
    }
   ],
   "source": [
    "family_series = {\n",
    "    'Acompanhado': df_train.query('Family == 1 and Sex == 0').groupby(['Pclass']).sum()['Survived'].values,\n",
    "    'Sozinho': df_train.query('Family == 0 and Sex == 0').groupby(['Pclass']).sum()['Survived'].values\n",
    "}\n",
    "\n",
    "two_series_bar_plot(\n",
    "    family_series,\n",
    "    ['1a', '2a', '3a'],\n",
    "    title='Taxa de sobrevivência de homens por classe',\n",
    "    ylabel='Total de Sobrevivência',\n",
    "    xlabel='Classe'\n",
    ")"
   ]
  },
  {
   "cell_type": "markdown",
   "metadata": {},
   "source": [
    "Quado considerado os números absolutos, percebe-se que estar acompanhado para homens fez a diferença principalmente na 3ª classe, onde a maioria estava sozinha, mas a taxa de sobrevivência foi inferior aos passageiros acompanhados. \n",
    "\n",
    "Porém, o motivo de existir essa relação pode ser resultado, por exemplo, da idade do passageiro, já que crianças estão acompanhadas por família, em sua grande maioria."
   ]
  },
  {
   "cell_type": "code",
   "execution_count": 36,
   "metadata": {},
   "outputs": [
    {
     "data": {
      "image/png": "[encoded data removed]",
      "text/plain": [
       "<Figure size 432x288 with 1 Axes>"
      ]
     },
     "metadata": {},
     "output_type": "display_data"
    }
   ],
   "source": [
    "series_pie_plot(\n",
    "    df_train.query('AgeGroup == 1').groupby(['Family']).count()['Survived'], \n",
    "    labels=['Sozinha', 'Acompanhada'],\n",
    "    title='Crianças/Família'\n",
    ")"
   ]
  },
  {
   "cell_type": "code",
   "execution_count": 37,
   "metadata": {},
   "outputs": [
    {
     "data": {
      "image/png": "[encoded data removed]",
      "text/plain": [
       "<Figure size 432x288 with 1 Axes>"
      ]
     },
     "metadata": {},
     "output_type": "display_data"
    }
   ],
   "source": [
    "series_pie_plot(\n",
    "    df_train.query('AgeGroup == 1').groupby(['Sex']).count()['Survived'], \n",
    "    labels=['Menino', 'Menina'],\n",
    "    title='Crianças/Sexo'\n",
    ")"
   ]
  },
  {
   "cell_type": "markdown",
   "metadata": {},
   "source": [
    "Aparetemente, o fato de ser criança pode ter afetado o estatística de sobrevivência de homens acompanhados. Para validar a hipótese, vamos remover as crianças da análise, uma vez que, em sua grande maioria, estão acompanhadas."
   ]
  },
  {
   "cell_type": "code",
   "execution_count": 38,
   "metadata": {},
   "outputs": [
    {
     "data": {
      "image/png": "[encoded data removed]",
      "text/plain": [
       "<Figure size 432x288 with 1 Axes>"
      ]
     },
     "metadata": {
      "needs_background": "light"
     },
     "output_type": "display_data"
    }
   ],
   "source": [
    "family_series = {\n",
    "    'Acompanhado': df_train.query('Family == 1 and Sex == 0 and AgeGroup > 1').groupby(['Pclass']).mean()['Survived'].values * 100,\n",
    "    'Sozinho': df_train.query('Family == 0 and Sex == 0 and AgeGroup > 1').groupby(['Pclass']).mean()['Survived'].values * 100\n",
    "}\n",
    "\n",
    "two_series_bar_plot(\n",
    "    family_series,\n",
    "    ['1a', '2a', '3a'],\n",
    "    title='Taxa de sobrevivência de homens por classe (sem crianças)',\n",
    "    ylabel='% Sobrevivência',\n",
    "    xlabel='Classe'\n",
    ")"
   ]
  },
  {
   "cell_type": "markdown",
   "metadata": {},
   "source": [
    "E, conforme se suspeitava, ao desconsiderar crianças do conjunto de homens, a relação de sobrevivência com estar acompanhado por família se enfraqueceu fortemente, uma vez que era uma consequência da faixa etária."
   ]
  },
  {
   "cell_type": "markdown",
   "metadata": {},
   "source": [
    "### A diferença da taxa de sobrevivência entre homens e mulheres é menor na primeira classe que nas demais\n",
    "É de se esperar que a taxa de sobrevivência de homens aumente da 3ª para a 1ª classe, enquanto a taxa de sobrevivência de mulheres seja mais estável, já que, uma vez que o sexo masculino foi preterido, a classe do passageiro poderá ser fator priorizador na sobrevivência. Para esta análise, serão desconsideradas as crianças, no entanto, que são parte da priorização por idade."
   ]
  },
  {
   "cell_type": "code",
   "execution_count": 39,
   "metadata": {},
   "outputs": [
    {
     "data": {
      "image/png": "[encoded data removed]",
      "text/plain": [
       "<Figure size 432x288 with 1 Axes>"
      ]
     },
     "metadata": {
      "needs_background": "light"
     },
     "output_type": "display_data"
    }
   ],
   "source": [
    "male_pclass_survival_rate = df_train.query('Sex == 0 and AgeGroup > 1').groupby(['Pclass']).mean()['Survived'].values\n",
    "female_pclass_survival_rate = df_train.query('Sex == 1 and AgeGroup > 1').groupby(['Pclass']).mean()['Survived'].values\n",
    "\n",
    "sex_series = { \n",
    "    'Homem': male_pclass_survival_rate * 100,\n",
    "    'Mulher': female_pclass_survival_rate * 100\n",
    "}\n",
    "\n",
    "two_series_bar_plot(\n",
    "    sex_series, \n",
    "    ['1a', '2a', '3a'], \n",
    "    title='Taxa de sobrevivência por sexo/classe',\n",
    "    ylabel='% Sobrevivência',\n",
    "    xlabel='Classe'\n",
    ")"
   ]
  },
  {
   "cell_type": "code",
   "execution_count": 40,
   "metadata": {},
   "outputs": [
    {
     "data": {
      "text/plain": [
       "Text(0.5, 0, 'Classe')"
      ]
     },
     "execution_count": 40,
     "metadata": {},
     "output_type": "execute_result"
    },
    {
     "data": {
      "image/png": "[encoded data removed]",
      "text/plain": [
       "<Figure size 432x288 with 1 Axes>"
      ]
     },
     "metadata": {
      "needs_background": "light"
     },
     "output_type": "display_data"
    }
   ],
   "source": [
    "sex_pclass_rate_diff = (female_pclass_survival_rate - male_pclass_survival_rate) * 100\n",
    "df_sex_class_rate_diff = pd.DataFrame(data={'sex_class_rate_diff': sex_pclass_rate_diff}, index=[1, 2, 3])\n",
    "\n",
    "axes = df_sex_class_rate_diff.plot(kind='bar', grid=True, legend=False)\n",
    "axes.set_xticklabels(['1a', '2a', '3a'])\n",
    "axes.set_title('Diferença entre as taxas de sobrevivência entre os sexos por classe')\n",
    "axes.set_ylabel('% Sobrevivência')\n",
    "axes.set_xlabel('Classe')"
   ]
  },
  {
   "cell_type": "markdown",
   "metadata": {},
   "source": [
    "Nota-se que, apesar de passageiros do sexo masculino da 1ª classe terem tido taxa de sobrevivência superior às demais classes, a diferença da taxa de sobrevivência dentre os dois sexos não é menor na 1ª classe. O que se pôde observar pelos dois gráficos acima foi:\n",
    "- Passageiros da 1ª classe tiveram a maior taxa de sobrevivência dentre os passageiros do sexo masculino;\n",
    "- Passageiros da 2ª classe tiveram a menor taxa de sobrevivência dentre os passageiros do sexo masculino;\n",
    "- O pico da diferença da taxa de sobrevivência dentre os dois sexos é no grupo dos passageiros da 2ª classe. Enquanto a taxa de sobrevivência de passageiros do sexo feminino diminui pouco, a do sexo masculino diminui vertiginosamente;\n",
    "- A menor diferença dentre as taxas dos dois sexos está na 3ª classe, mas porque cai também a taxa de sobrevivência de passageiros do sexo feminino.\n",
    "\n",
    "Em resumo, a classe afeta negativamente a taxa de sobrevivência dos passageiros do sexo masculino a partir da 2ª classe, enquanto do sexo feminino, somente na 3ª classe. Assim a 3ª classe possui a menor diferença dentre os dois sexos, mas por uma queda na probabilidade de sobrevivência feminina."
   ]
  },
  {
   "cell_type": "markdown",
   "metadata": {},
   "source": [
    "### Análise da taxa de sobrevivência por porto de embarque\n",
    "Em um pano rápido, considerar que o porto de embarque possa ter algo haver com a probabilidade de sobrevivência de um passageiro parece ser um equívoco. Isto porque se pode imaginar que a distribuição de embarque dentre os portos de passageiros de 1ª classe, do sexo feminino, ou crianças seja aleatória. Talvez pelo posicionamento da cabine do passageiro no navio como resultado do porto de embarque do passageiro pudesse afetar na taxa de sobrevivência. Mas não temos esse dado nas amostras.\n",
    "\n",
    "Contudo, parece haver uma correlação negativa entre a taxa de sobrevivência e o porto de embarque, que está em ordem crescente de 0 a 2, com os respectivos valores: Cherbourg, Queenstown e Southampton."
   ]
  },
  {
   "cell_type": "code",
   "execution_count": 41,
   "metadata": {},
   "outputs": [
    {
     "data": {
      "image/png": "[encoded data removed]",
      "text/plain": [
       "<Figure size 432x288 with 1 Axes>"
      ]
     },
     "metadata": {
      "needs_background": "light"
     },
     "output_type": "display_data"
    }
   ],
   "source": [
    "embarked_labels = ['Cherbourg', 'Queenstown', 'Southampton']\n",
    "groupby_mean_bar_plot(df_train, ['Embarked'], 'Survived', x_labels=embarked_labels)"
   ]
  },
  {
   "cell_type": "markdown",
   "metadata": {},
   "source": [
    "Será que Embarked é, por si só, uma dimensão que afeta a probabilidade de sobrevivência do passageiro?"
   ]
  },
  {
   "cell_type": "code",
   "execution_count": 42,
   "metadata": {},
   "outputs": [
    {
     "data": {
      "image/png": "[encoded data removed]",
      "text/plain": [
       "<Figure size 432x288 with 1 Axes>"
      ]
     },
     "metadata": {},
     "output_type": "display_data"
    }
   ],
   "source": [
    "series_pie_plot(\n",
    "    df_train.groupby(['Embarked']).count()['Survived'], \n",
    "    labels=embarked_labels,\n",
    "    title='#Passageiros por porto de embarque'\n",
    ")"
   ]
  },
  {
   "cell_type": "markdown",
   "metadata": {},
   "source": [
    "Como o porto Queenstown teve uma quantidade pequena de passageiros, talvez a quantidade de dimensões que afete o seu índice de sobrevivência seja menor do que nos outros dois portos.\n",
    "\n",
    "Para os outros dois portos, no entanto, cabe verificar se a diferença de percentual de sobrevivência se deve a dimensões como idade, sexo e classe."
   ]
  },
  {
   "cell_type": "code",
   "execution_count": 43,
   "metadata": {},
   "outputs": [
    {
     "data": {
      "image/png": "[encoded data removed]",
      "text/plain": [
       "<Figure size 432x288 with 1 Axes>"
      ]
     },
     "metadata": {
      "needs_background": "light"
     },
     "output_type": "display_data"
    }
   ],
   "source": [
    "# Análise pela faixa etária\n",
    "embarked_series = { \n",
    "    'Cherbourg': df_train.query('Embarked == 0').groupby(['AgeGroup']).count()['Survived'].values,\n",
    "    'Southampton': df_train.query('Embarked == 2').groupby(['AgeGroup']).count()['Survived'].values\n",
    "}\n",
    "\n",
    "two_series_bar_plot(\n",
    "    embarked_series, \n",
    "    ['Criança', 'Adolescente', 'Adulto', 'Idoso'], \n",
    "    title='Taxa de sobrevivência por porto de embarque/faixa etária',\n",
    "    ylabel='% Sobrevivência',\n",
    "    xlabel='Faixa etária',\n",
    "    loc=2\n",
    ")"
   ]
  },
  {
   "cell_type": "code",
   "execution_count": 44,
   "metadata": {},
   "outputs": [
    {
     "data": {
      "image/png": "[encoded data removed]",
      "text/plain": [
       "<Figure size 432x288 with 1 Axes>"
      ]
     },
     "metadata": {
      "needs_background": "light"
     },
     "output_type": "display_data"
    }
   ],
   "source": [
    "# Análise pelo sexo\n",
    "embarked_series = { \n",
    "    'Cherbourg': df_train.query('Embarked == 0').groupby(['Sex']).count()['Survived'].values,\n",
    "    'Southampton': df_train.query('Embarked == 2').groupby(['Sex']).count()['Survived'].values\n",
    "}\n",
    "\n",
    "two_series_bar_plot(\n",
    "    embarked_series, \n",
    "    ['Masculino', 'Feminino'], \n",
    "    title='Taxa de sobrevivência por porto de embarque/sexo',\n",
    "    ylabel='% Sobrevivência',\n",
    "    xlabel='Sexo',\n",
    "    loc=1\n",
    ")"
   ]
  },
  {
   "cell_type": "code",
   "execution_count": 45,
   "metadata": {},
   "outputs": [
    {
     "data": {
      "image/png": "[encoded data removed]",
      "text/plain": [
       "<Figure size 432x288 with 1 Axes>"
      ]
     },
     "metadata": {
      "needs_background": "light"
     },
     "output_type": "display_data"
    }
   ],
   "source": [
    "# Análise por classe de passageiro\n",
    "embarked_series = { \n",
    "    'Cherbourg': df_train.query('Embarked == 0').groupby(['Pclass']).count()['Survived'].values,\n",
    "    'Southampton': df_train.query('Embarked == 2').groupby(['Pclass']).count()['Survived'].values\n",
    "}\n",
    "\n",
    "two_series_bar_plot(\n",
    "    embarked_series, \n",
    "    ['1a', '2a', '3a'], \n",
    "    title='Taxa de sobrevivência por porto de embarque/classe',\n",
    "    ylabel='# Passageiros',\n",
    "    xlabel='Classe',\n",
    "    loc=2\n",
    ")"
   ]
  },
  {
   "cell_type": "markdown",
   "metadata": {},
   "source": [
    "É possível verificar pela comparação da distribuição de passageiros entre as dimensões idade, sexo e classe, que no porto Southampton embarcaram passageiros que estão em grupos menos favorecidos em maior número do que em grupos mais favorecidos, como passageiros de 3ª classe, passageiros adultos, ou passageiros do sexo masculino, enquanto, no porto de Cherbourg, a diferença entre os grupos é mais atenuada, ou mesmo, há concentração em grupos priorizados, como passageiros de 1ª classe.\n",
    "\n",
    "Assim, pode-se suspeitar que a diferença superior a 20 pontos percentuais que existe entre as taxas de sobrevivência dos passageiros embarcados nos dois portos está relacionada com a classe, idade e sexo. \n",
    "\n",
    "Para avaliar a validade dessa hipótese, considerando que a relação de %Sobrevivência é Cherbourg > Southampton > Queenstown, serão considerados o percentual de passageiros embarcados em cada localidade que percente a dois grupos, *maiores %Sobrevivência* e *menores %Sobrevivência*, onde:\n",
    "- maiores %Sobrevivência: crianças ou mulheres da 1ª e 2ª classe;\n",
    "- menores %Sobrevivência: homens adultos da 2ª e 3ª classe.\n",
    "\n",
    "Conforme visto anteriormente, esse dois grupos correspondem às menores taxas de sobrevivência do espaço amostral. Caso a diferença entre os percentuais justifique a diferença da taxa de sobrevivência entre os portos, será este indício que o porto de embarque não faz diferença, pois a taxa de sobrevivência é consequência de idade, sexo e classe."
   ]
  },
  {
   "cell_type": "code",
   "execution_count": 46,
   "metadata": {},
   "outputs": [
    {
     "data": {
      "text/html": [
       "<div>\n",
       "<style scoped>\n",
       "    .dataframe tbody tr th:only-of-type {\n",
       "        vertical-align: middle;\n",
       "    }\n",
       "\n",
       "    .dataframe tbody tr th {\n",
       "        vertical-align: top;\n",
       "    }\n",
       "\n",
       "    .dataframe thead th {\n",
       "        text-align: right;\n",
       "    }\n",
       "</style>\n",
       "<table border=\"1\" class=\"dataframe\">\n",
       "  <thead>\n",
       "    <tr style=\"text-align: right;\">\n",
       "      <th></th>\n",
       "      <th>Embarked</th>\n",
       "      <th>AgeGroup</th>\n",
       "      <th>Sex</th>\n",
       "      <th>Pclass</th>\n",
       "      <th>Passengers</th>\n",
       "    </tr>\n",
       "  </thead>\n",
       "  <tbody>\n",
       "    <tr>\n",
       "      <th>38</th>\n",
       "      <td>2</td>\n",
       "      <td>3</td>\n",
       "      <td>0</td>\n",
       "      <td>3</td>\n",
       "      <td>170</td>\n",
       "    </tr>\n",
       "    <tr>\n",
       "      <th>37</th>\n",
       "      <td>2</td>\n",
       "      <td>3</td>\n",
       "      <td>0</td>\n",
       "      <td>2</td>\n",
       "      <td>73</td>\n",
       "    </tr>\n",
       "    <tr>\n",
       "      <th>40</th>\n",
       "      <td>2</td>\n",
       "      <td>3</td>\n",
       "      <td>1</td>\n",
       "      <td>2</td>\n",
       "      <td>55</td>\n",
       "    </tr>\n",
       "    <tr>\n",
       "      <th>36</th>\n",
       "      <td>2</td>\n",
       "      <td>3</td>\n",
       "      <td>0</td>\n",
       "      <td>1</td>\n",
       "      <td>52</td>\n",
       "    </tr>\n",
       "    <tr>\n",
       "      <th>41</th>\n",
       "      <td>2</td>\n",
       "      <td>3</td>\n",
       "      <td>1</td>\n",
       "      <td>3</td>\n",
       "      <td>49</td>\n",
       "    </tr>\n",
       "    <tr>\n",
       "      <th>39</th>\n",
       "      <td>2</td>\n",
       "      <td>3</td>\n",
       "      <td>1</td>\n",
       "      <td>1</td>\n",
       "      <td>36</td>\n",
       "    </tr>\n",
       "    <tr>\n",
       "      <th>12</th>\n",
       "      <td>0</td>\n",
       "      <td>3</td>\n",
       "      <td>1</td>\n",
       "      <td>1</td>\n",
       "      <td>34</td>\n",
       "    </tr>\n",
       "    <tr>\n",
       "      <th>9</th>\n",
       "      <td>0</td>\n",
       "      <td>3</td>\n",
       "      <td>0</td>\n",
       "      <td>1</td>\n",
       "      <td>31</td>\n",
       "    </tr>\n",
       "    <tr>\n",
       "      <th>32</th>\n",
       "      <td>2</td>\n",
       "      <td>2</td>\n",
       "      <td>0</td>\n",
       "      <td>3</td>\n",
       "      <td>24</td>\n",
       "    </tr>\n",
       "    <tr>\n",
       "      <th>11</th>\n",
       "      <td>0</td>\n",
       "      <td>3</td>\n",
       "      <td>0</td>\n",
       "      <td>3</td>\n",
       "      <td>20</td>\n",
       "    </tr>\n",
       "  </tbody>\n",
       "</table>\n",
       "</div>"
      ],
      "text/plain": [
       "    Embarked  AgeGroup  Sex  Pclass  Passengers\n",
       "38         2         3    0       3         170\n",
       "37         2         3    0       2          73\n",
       "40         2         3    1       2          55\n",
       "36         2         3    0       1          52\n",
       "41         2         3    1       3          49\n",
       "39         2         3    1       1          36\n",
       "12         0         3    1       1          34\n",
       "9          0         3    0       1          31\n",
       "32         2         2    0       3          24\n",
       "11         0         3    0       3          20"
      ]
     },
     "execution_count": 46,
     "metadata": {},
     "output_type": "execute_result"
    }
   ],
   "source": [
    "# Referências: \n",
    "# https://www.datacamp.com/community/tutorials/pandas-multi-index\n",
    "\n",
    "# fiz o agrupamento pela varíavel Embarked mais 3 variáveis que identificam as dimensões idade, sexo e classe\n",
    "df_groups = df_train.groupby(['Embarked','AgeGroup', 'Sex', 'Pclass']).count()['Survived']\n",
    "\n",
    "# usei a função reset_index para transformar as variáveis novamente em coluna\n",
    "df_groups = df_groups.reset_index()\n",
    "\n",
    "# Troca do nome da coluna Survived por Passengers, já que agora ela identifica o número de passageiros \n",
    "# (vide count no groupby)\n",
    "df_groups.rename({'Survived': 'Passengers'}, axis=1, inplace=True)\n",
    "\n",
    "# ordenado dataframe de maneira inversa por Passengers.\n",
    "df_groups.sort_values('Passengers', ascending=False, inplace=True)\n",
    "df_groups.head(10)"
   ]
  },
  {
   "cell_type": "code",
   "execution_count": 47,
   "metadata": {},
   "outputs": [
    {
     "data": {
      "image/png": "[encoded data removed]",
      "text/plain": [
       "<Figure size 432x288 with 1 Axes>"
      ]
     },
     "metadata": {
      "needs_background": "light"
     },
     "output_type": "display_data"
    }
   ],
   "source": [
    "# filtro do grupo de menor taxa de sobrevivencia - homens adultos de 2a e 3a classe\n",
    "worst_cases_filter = 'AgeGroup == 3 and Sex == 0 and Pclass in (2, 3)'\n",
    "# filtro do group de maior taxa de sobrevivencia - crianças ou mulheres de 1a e 2a classe\n",
    "best_cases_filter = '(AgeGroup == 1 or Sex == 1) and Pclass in (1, 2)'\n",
    "\n",
    "worst_passengers_count = df_groups.query(worst_cases_filter).groupby(['Embarked']).sum()['Passengers'].values\n",
    "best_passengers_count = df_groups.query(best_cases_filter).groupby(['Embarked']).sum()['Passengers'].values\n",
    "embarked_passengers_count = df_groups.groupby(['Embarked']).sum()['Passengers'].values\n",
    "\n",
    "worst_passengers_percent = worst_passengers_count / embarked_passengers_count * 100\n",
    "best_passengers_percent = best_passengers_count / embarked_passengers_count * 100\n",
    "\n",
    "two_series_bar_plot(\n",
    "    {'Menores %sobrevivência': worst_passengers_percent, 'Maiores %sobrevivência': best_passengers_percent},\n",
    "    embarked_labels,\n",
    "    title='% de passageiros pela faixas de maior e menor taxa de sobrevivência',\n",
    "    ylabel='% Passageiros',\n",
    "    xlabel='Porto de embarque',\n",
    "    loc=2\n",
    ")"
   ]
  },
  {
   "cell_type": "markdown",
   "metadata": {},
   "source": [
    "Diante do gráfico acima, percebe-se que em Cherbourg, onde mais de 30% dos passageiros embarcados corresponde ao grupo mais favorecido no embarque de botes e aproximadamente 20% corresponde ao grupo de menor prioridade, embarcaram passageiros com maior probabilidade de sobrevivênciam. Já nos outros dois portos, a relação é inversa e, no caso de Queenstown, a minoria dos passageiros embarcados eram prioritários, o que é indício do motivo pelo qual passageiros que embarcaram nesse porto tiveram menor chance de sobreviver.\n",
    "\n",
    "Em resumo, a diferença na taxa de sobrevivência entre os passageiros embarcados nos 3 portos se deve por outras variáveis que não o porto de embarque. Porém, isso demonstra que o porto de embarque pode ser utilizado para uma análise demográfica de passageiros."
   ]
  },
  {
   "cell_type": "markdown",
   "metadata": {},
   "source": [
    "## Resultados\n",
    "\n",
    "Com o intuito de atender a cada um dos 6 questionamentos feitos, foi realizada uma análise do conjunto de dados que continha 891 amostras, correspondendo a 40% do total de passageiros do incidente. Foram desconsideradas variáveis com muitos valores nulos ou que não contribuíam para a categorização dos dados, bem como foram desconsideradas amostras que continham variáveis importantes com valores nulos, como é o caso de Age (idade do passageiro) e Embarked (porto de embarque).\n",
    "\n",
    "O trabalho de análise foi realizado em 712 amostras, dispondo somente de colunas numéricas, e a partir desses dados, foi possível verificar que:\n",
    "- As chaces de sobrevivência de passageiros de 1ª classe, do sexo feminino e crianças é claramente superior às dos demais grupos\n",
    "- Apesar de crianças possuírem um elevado nível de prioridade, crianças da 3ª classe tiveram menos de 50% de chance de sobreviver, o que demonstra que a classe do passageiro afeta a probabilidade de sobrevivência mesmo no caso de crianças\n",
    "- No caso de passageiros do sexo feminino, estar casada ou não estar casada, não afeta na probabilidade de sobrevivência\n",
    "- Passageiros que viajavam acompanhado de família não possuem mais chances de sobreviver porque estão acompanhados pela família, mas porque provavelmente são crianças, acompanhadas por familiares em sua grande maioria\n",
    "- Apesar de passageiros do sexo masculino de 1ª classe terem mais chances de sobreviver que outros passageiros de mesmo sexo mas das outras duas classes, a diferença entre a taxa de sobrevivência dos dois sexos somente é menor na 1ª classe, consequência da queda da taxa de sobrevivência de passageiros do sexo feminino\n",
    "- Há diferença entre as taxas de sobrevivência dos passageiros embarcados nos diferentes portos. Porém, trata-se de uma consequência da distribuição desses passageiros pelas dimensões de idade (AgeGroup), sexo (Sex) e classe (Pclass). Logo, o porto de embarque se relaciona indiretamente com a probabilidade de sobrevivência.\n",
    "\n",
    "Cabe ratificar que a análise realizada nesse relatório não é conclusiva, e análises mais profundas deverão ser realizadas para se obter conclusões com elevado grau de certeza."
   ]
  },
  {
   "cell_type": "markdown",
   "metadata": {},
   "source": [
    "## Bibliografia\n",
    "\n",
    "\\[1\\] *How to convert categorical data to numerical data?* (Stack Overflow): [https://stackoverflow.com/questions/51311831/how-to-convert-categorical-data-to-numerical-data](https://stackoverflow.com/questions/51311831/how-to-convert-categorical-data-to-numerical-data)\n",
    "\n",
    "\\[2\\] *Titanic Data Science Solutions*: [https://www.kaggle.com/startupsci/titanic-data-science-solutions](https://www.kaggle.com/startupsci/titanic-data-science-solutions)\n",
    "\n",
    "\\[3\\] *Pie Chart in Python with Legends*: [http://www.datasciencemadesimple.com/pie-chart-in-python-with-legends/](http://www.datasciencemadesimple.com/pie-chart-in-python-with-legends/)\n",
    "\n",
    "\\[4\\] *Building structured multi-plot grids*: [https://seaborn.pydata.org/tutorial/axis_grids.html](https://seaborn.pydata.org/tutorial/axis_grids.html)\n",
    "\n",
    "\\[5\\] *pandas 0.24.2 documentation*: [https://pandas.pydata.org/pandas-docs/stable/](https://pandas.pydata.org/pandas-docs/stable/)"
   ]
  }
 ],
 "metadata": {
  "kernelspec": {
   "display_name": "Python 3",
   "language": "python",
   "name": "python3"
  },
  "language_info": {
   "codemirror_mode": {
    "name": "ipython",
    "version": 3
   },
   "file_extension": ".py",
   "mimetype": "text/x-python",
   "name": "python",
   "nbconvert_exporter": "python",
   "pygments_lexer": "ipython3",
   "version": "3.7.1"
  }
 },
 "nbformat": 4,
 "nbformat_minor": 2
}
